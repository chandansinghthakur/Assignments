{
 "cells": [
  {
   "cell_type": "code",
   "execution_count": 2,
   "id": "1fe8f2d1",
   "metadata": {},
   "outputs": [
    {
     "name": "stdout",
     "output_type": "stream",
     "text": [
      "True <class 'bool'>\n",
      "False <class 'bool'>\n"
     ]
    }
   ],
   "source": [
    "# 1.What are the two values of the Boolean data type? How do you write them?\n",
    "#  True and False are two values of the Boolean data type.\n",
    "a = True\n",
    "b = False\n",
    "print(a, type(a))\n",
    "print(b, type(b))"
   ]
  },
  {
   "cell_type": "code",
   "execution_count": 3,
   "id": "7a21d61b",
   "metadata": {},
   "outputs": [
    {
     "name": "stdout",
     "output_type": "stream",
     "text": [
      "True\n",
      "True\n",
      "False\n"
     ]
    }
   ],
   "source": [
    "# 2. What are the three different types of Boolean operators?\n",
    "#  and, or , not are the three different types of Boolean operators.\n",
    "a = 10\n",
    "b = 20\n",
    "print(a>5 and b>5)  # and --> Boolean operator\n",
    "print(a>5 or b>5)   # or --> Boolean operator\n",
    "print(not(a>2))   # not --> Boolean operator"
   ]
  },
  {
   "cell_type": "markdown",
   "id": "f435b735",
   "metadata": {},
   "source": [
    "3. Make a list of each Boolean operator's truth tables \n",
    "(i.e. every possible combination of Boolean values for the operator and what it evaluate ).\n",
    "\n",
    "Truth table for and operator\n",
    "True and True is True\n",
    "True and  False is False\n",
    "False and True is False\n",
    "False and False is False\n",
    "\n",
    "Truth table for or operator\n",
    "True or True is True\n",
    "True or  False is True\n",
    "False or True is True\n",
    "False or False is False\n",
    "\n",
    "Truth table for not operator\n",
    "True not is False\n",
    "False not is True"
   ]
  },
  {
   "cell_type": "code",
   "execution_count": 5,
   "id": "1a84dddb",
   "metadata": {},
   "outputs": [
    {
     "name": "stdout",
     "output_type": "stream",
     "text": [
      "False\n",
      "False\n",
      "True\n",
      "False\n",
      "False\n",
      "True\n"
     ]
    }
   ],
   "source": [
    "# 4. What are the values of the following expressions?\n",
    "# (5 > 4) and (3 == 5)\n",
    "# not (5 > 4)\n",
    "# (5 > 4) or (3 == 5)\n",
    "# not ((5 > 4) or (3 == 5))\n",
    "# (True and True) and (True == False)\n",
    "# (not False) or (not True)\n",
    "\n",
    "print((5 > 4) and (3 == 5))\n",
    "print(not (5 > 4))\n",
    "print((5 > 4) or (3 == 5))\n",
    "print(not ((5 > 4) or (3 == 5)))\n",
    "print((True and True) and (True == False))\n",
    "print((not False) or (not True))"
   ]
  },
  {
   "cell_type": "code",
   "execution_count": 6,
   "id": "37d6f52a",
   "metadata": {},
   "outputs": [],
   "source": [
    "# 5. What are the six comparison operators?\n",
    "# 1. == (is equals to)\n",
    "# 2. != (not equals to)\n",
    "# 3. <  (less than)\n",
    "# 4. >  (more than)\n",
    "# 5. <= (less than equals to)\n",
    "# 6. >= (more than equals to)"
   ]
  },
  {
   "cell_type": "code",
   "execution_count": 7,
   "id": "d47d904b",
   "metadata": {},
   "outputs": [
    {
     "name": "stdout",
     "output_type": "stream",
     "text": [
      "True\n"
     ]
    }
   ],
   "source": [
    "# 6. How do you tell the difference between the equal to and assignment operators?\n",
    "# Describe a condition and when you would use one.\n",
    "\n",
    "#  == is the equal to operator that compares two values \n",
    "#  = is the assignment operator that stores a value in a variable.\n",
    "\n",
    "a = 5 # assignment opertaor that stores value(5) in a variable (a).\n",
    "\n",
    "if a == 5 : # comparing value of a variable and 5.\n",
    "    print(a==5)"
   ]
  },
  {
   "cell_type": "code",
   "execution_count": 8,
   "id": "ef418f06",
   "metadata": {},
   "outputs": [
    {
     "name": "stdout",
     "output_type": "stream",
     "text": [
      "ham\n",
      "spam\n",
      "spam\n"
     ]
    }
   ],
   "source": [
    "# 7. Identify the three blocks in this code:\n",
    "# spam = 0\n",
    "# if spam == 10:\n",
    "# print('eggs')\n",
    "# if spam > 5:\n",
    "# print('bacon')\n",
    "# else:\n",
    "# print('ham')\n",
    "# print('spam')\n",
    "# print('spam')\n",
    "\n",
    "\n",
    "spam = 0\n",
    "if spam == 10:\n",
    "    print('eggs')  # block 1\n",
    "\n",
    "if spam > 5:\n",
    "    print('bacon')   # block 2\n",
    "    \n",
    "\n",
    "else:\n",
    "    print('ham')   # block 3\n",
    "print('spam')\n",
    "print('spam')\n"
   ]
  },
  {
   "cell_type": "code",
   "execution_count": 9,
   "id": "efcdcab2",
   "metadata": {},
   "outputs": [
    {
     "name": "stdout",
     "output_type": "stream",
     "text": [
      "Hello\n",
      "Howdy\n",
      "Greetings!\n"
     ]
    }
   ],
   "source": [
    "# 8. Write code that prints Hello if 1 is stored in spam, prints Howdy \n",
    "# if 2 is stored in spam, and prints Greetings! if anything else is stored in spam.\n",
    "\n",
    "def func(spam):\n",
    "    if spam==1:\n",
    "        print(\"Hello\")\n",
    "    elif spam==2:\n",
    "        print(\"Howdy\")\n",
    "    else:\n",
    "        print(\"Greetings!\")\n",
    "\n",
    "func(1)\n",
    "func(2)\n",
    "func(3)"
   ]
  },
  {
   "cell_type": "code",
   "execution_count": 10,
   "id": "45304f20",
   "metadata": {},
   "outputs": [],
   "source": [
    "# 9.If your programme is stuck in an endless loop, what keys you’ll press?\n",
    "\n",
    "# --> press \"ctrl + c\" to stop a program stuck in an endless loop."
   ]
  },
  {
   "cell_type": "code",
   "execution_count": 11,
   "id": "7f32be09",
   "metadata": {},
   "outputs": [],
   "source": [
    "# 10. How can you tell the difference between break and continue?\n",
    "\n",
    "# ---> if break condtion is satisfied, the break statement will move the excution outside the loop.\n",
    "# ---> And the continue statement will move the excution to the start of the loop."
   ]
  },
  {
   "cell_type": "code",
   "execution_count": 12,
   "id": "b260d6a8",
   "metadata": {},
   "outputs": [],
   "source": [
    "# 11. In a for loop, what is the difference between range(10), range(0, 10), and range(0, 10, 1)?\n",
    "\n",
    "# The range(10) means range from 0 to 9 , 10 is excluded.\n",
    "# The range(0,10) means range from 0 to 10 and 10 in included.\n",
    "# The range(0, 10, 1) means range from 0 to 10 but the step is 1, it means the value is increased by 1 in each iteration."
   ]
  },
  {
   "cell_type": "code",
   "execution_count": 15,
   "id": "f310aa4b",
   "metadata": {},
   "outputs": [],
   "source": [
    "# 12. Write a short program that prints the numbers 1 to 10 using a for loop. \n",
    "# Then write an equivalent program that prints the numbers 1 to 10 using a while loop."
   ]
  },
  {
   "cell_type": "code",
   "execution_count": 14,
   "id": "3f0780ee",
   "metadata": {},
   "outputs": [
    {
     "name": "stdout",
     "output_type": "stream",
     "text": [
      "1,2,3,4,5,6,7,8,9,10,"
     ]
    }
   ],
   "source": [
    "for i in range(1,11):\n",
    "    print(i, end=\",\")"
   ]
  },
  {
   "cell_type": "code",
   "execution_count": 16,
   "id": "fe8e73f5",
   "metadata": {},
   "outputs": [
    {
     "name": "stdout",
     "output_type": "stream",
     "text": [
      "1 2 3 4 5 6 7 8 9 10 "
     ]
    }
   ],
   "source": [
    "i = 1\n",
    "while i<=10:\n",
    "    print(i, end=\" \")\n",
    "    i += 1"
   ]
  },
  {
   "cell_type": "code",
   "execution_count": null,
   "id": "c25033fd",
   "metadata": {},
   "outputs": [],
   "source": [
    "# 13. If you had a function named bacon() inside a module named spam, how would you call it after importing spam?\n",
    "\n",
    "# The function can be called as---> spam.bacon()"
   ]
  }
 ],
 "metadata": {
  "kernelspec": {
   "display_name": "Python 3 (ipykernel)",
   "language": "python",
   "name": "python3"
  },
  "language_info": {
   "codemirror_mode": {
    "name": "ipython",
    "version": 3
   },
   "file_extension": ".py",
   "mimetype": "text/x-python",
   "name": "python",
   "nbconvert_exporter": "python",
   "pygments_lexer": "ipython3",
   "version": "3.9.7"
  }
 },
 "nbformat": 4,
 "nbformat_minor": 5
}
