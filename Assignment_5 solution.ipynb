{
 "cells": [
  {
   "cell_type": "markdown",
   "id": "009b78a2",
   "metadata": {},
   "source": [
    "Q1. What does an empty dictionary's code look like?"
   ]
  },
  {
   "cell_type": "markdown",
   "id": "b2e48b0d",
   "metadata": {},
   "source": [
    "Ans: An empty dictionary is represented by two empty curly brackets\n",
    "\n",
    "   `d = {}` or `d = dict()`"
   ]
  },
  {
   "cell_type": "markdown",
   "id": "96ee6087",
   "metadata": {},
   "source": [
    "---------------------------------------------------------------------------------------------------------------------------"
   ]
  },
  {
   "cell_type": "markdown",
   "id": "e2f6fa0f",
   "metadata": {},
   "source": [
    "Q2. What is the value of a dictionary value with the key 'foo' and the value 42?"
   ]
  },
  {
   "cell_type": "code",
   "execution_count": 5,
   "id": "e4eb76b5",
   "metadata": {},
   "outputs": [
    {
     "data": {
      "text/plain": [
       "{'foo': 42}"
      ]
     },
     "execution_count": 5,
     "metadata": {},
     "output_type": "execute_result"
    }
   ],
   "source": [
    "d = {\"foo\": 42}\n",
    "d"
   ]
  },
  {
   "cell_type": "markdown",
   "id": "7f541449",
   "metadata": {},
   "source": [
    "---------------------------------------------------------------------------------------------------------------------------"
   ]
  },
  {
   "cell_type": "markdown",
   "id": "4a7b5760",
   "metadata": {},
   "source": [
    "Q3. What is the most significant distinction between a dictionary and a list?"
   ]
  },
  {
   "cell_type": "markdown",
   "id": "35e80f52",
   "metadata": {},
   "source": [
    "Ans: Dictionary is represented by `{}` whereas lists are represented by square brackets `[]`.\n",
    "    The items stored in a dictionary are unorderes while the items in a list are ordered."
   ]
  },
  {
   "cell_type": "markdown",
   "id": "0b937f2a",
   "metadata": {},
   "source": [
    "---------------------------------------------------------------------------------------------------------------------------"
   ]
  },
  {
   "cell_type": "markdown",
   "id": "5262b309",
   "metadata": {},
   "source": [
    "Q4. What happens if you try to access spam['foo'] if spam is {'bar': 100}?"
   ]
  },
  {
   "cell_type": "code",
   "execution_count": null,
   "id": "3974eb42",
   "metadata": {},
   "outputs": [],
   "source": [
    "spam = {'bar':100}\n",
    "spam['foo']"
   ]
  },
  {
   "cell_type": "markdown",
   "id": "5867b0f7",
   "metadata": {},
   "source": [
    "We will get a `KeyError`"
   ]
  },
  {
   "cell_type": "markdown",
   "id": "ab26e0cc",
   "metadata": {},
   "source": [
    "---------------------------------------------------------------------------------------------------------------------------"
   ]
  },
  {
   "cell_type": "markdown",
   "id": "6cd4885c",
   "metadata": {},
   "source": [
    "Q5. If a dictionary is stored in spam, what is the difference between the expressions 'cat' in spam and 'cat' in spam.keys()?"
   ]
  },
  {
   "cell_type": "markdown",
   "id": "74efa0ff",
   "metadata": {},
   "source": [
    "Ans: There is no difference. The operator checks whether the value exists as a key in the dictionary or not."
   ]
  },
  {
   "cell_type": "markdown",
   "id": "6ce3ef98",
   "metadata": {},
   "source": [
    "---------------------------------------------------------------------------------------------------------------------------"
   ]
  },
  {
   "cell_type": "markdown",
   "id": "da3956a7",
   "metadata": {},
   "source": [
    "Q6. If a dictionary is stored in spam, what is the difference between the expressions 'cat' in spam and 'cat' in spam.values()?"
   ]
  },
  {
   "cell_type": "markdown",
   "id": "94e4163a",
   "metadata": {},
   "source": [
    "Ans: 'cat' in spam checks whether there is a 'cat' key in the dictionary while 'cat' in spam.values() checks whether yhere is a value 'cat' for one of the keys in spam."
   ]
  },
  {
   "cell_type": "markdown",
   "id": "e35c96f4",
   "metadata": {},
   "source": [
    "---------------------------------------------------------------------------------------------------------------------------"
   ]
  },
  {
   "cell_type": "markdown",
   "id": "2461a569",
   "metadata": {},
   "source": [
    "Q7. What is a shortcut for the following code?\n",
    "\n",
    "`if 'color' not in spam:\n",
    "spam['color'] = 'black'`\n"
   ]
  },
  {
   "cell_type": "markdown",
   "id": "ab917cd7",
   "metadata": {},
   "source": [
    "Ans: `spam.setdefault('color', 'black')`"
   ]
  },
  {
   "cell_type": "markdown",
   "id": "bc7fac39",
   "metadata": {},
   "source": [
    "---------------------------------------------------------------------------------------------------------------------------"
   ]
  },
  {
   "cell_type": "markdown",
   "id": "f9b628ae",
   "metadata": {},
   "source": [
    "Q8. How do you \"pretty print\" dictionary values using which module and function?"
   ]
  },
  {
   "cell_type": "markdown",
   "id": "46be1542",
   "metadata": {},
   "source": [
    "Ans: We can pretty print a dictionary using three functions-\n",
    "\n",
    "   1. by using `pprint()` function of pprint module.\n",
    "   2. by using `json.dumps()` method of json module.\n",
    "   3. by using `yaml.dump()` method of yaml module."
   ]
  },
  {
   "cell_type": "code",
   "execution_count": 19,
   "id": "e4de94f3",
   "metadata": {},
   "outputs": [
    {
     "name": "stdout",
     "output_type": "stream",
     "text": [
      "Printing using print() function [{'Name': 'Abcd', 'Age': 24, 'Residence': {'Country': 'USA', 'City': 'New york'}}, {'Name': 'efgh', 'Age': 25, 'Residence': {'Country': 'Spain', 'City': 'Madrid'}}, {'Name': 'ijkl', 'Age': 26, 'Residence': {'Country': 'UK', 'City': 'England'}}, {'Name': 'mnop', 'Age': 27, 'Residence': {'Country': 'Japan', 'City': 'Osaka'}}]\n",
      "----------------------------------------------------------------------------------------------------\n",
      "Printing using pprint() function\n",
      "[{'Age': 24,\n",
      "  'Name': 'Abcd',\n",
      "  'Residence': {'City': 'New york', 'Country': 'USA'}},\n",
      " {'Age': 25,\n",
      "  'Name': 'efgh',\n",
      "  'Residence': {'City': 'Madrid', 'Country': 'Spain'}},\n",
      " {'Age': 26, 'Name': 'ijkl', 'Residence': {'City': 'England', 'Country': 'UK'}},\n",
      " {'Age': 27,\n",
      "  'Name': 'mnop',\n",
      "  'Residence': {'City': 'Osaka', 'Country': 'Japan'}}]\n",
      "----------------------------------------------------------------------------------------------------\n",
      "Printing using json.dumps() method\n",
      " [\n",
      "     {\n",
      "          \"Name\": \"Abcd\",\n",
      "          \"Age\": 24,\n",
      "          \"Residence\": {\n",
      "               \"Country\": \"USA\",\n",
      "               \"City\": \"New york\"\n",
      "          }\n",
      "     },\n",
      "     {\n",
      "          \"Name\": \"efgh\",\n",
      "          \"Age\": 25,\n",
      "          \"Residence\": {\n",
      "               \"Country\": \"Spain\",\n",
      "               \"City\": \"Madrid\"\n",
      "          }\n",
      "     },\n",
      "     {\n",
      "          \"Name\": \"ijkl\",\n",
      "          \"Age\": 26,\n",
      "          \"Residence\": {\n",
      "               \"Country\": \"UK\",\n",
      "               \"City\": \"England\"\n",
      "          }\n",
      "     },\n",
      "     {\n",
      "          \"Name\": \"mnop\",\n",
      "          \"Age\": 27,\n",
      "          \"Residence\": {\n",
      "               \"Country\": \"Japan\",\n",
      "               \"City\": \"Osaka\"\n",
      "          }\n",
      "     }\n",
      "]\n",
      "----------------------------------------------------------------------------------------------------\n",
      "Printing using yaml.dumps() method\n",
      " - Age: 24\n",
      "  Name: Abcd\n",
      "  Residence:\n",
      "    City: New york\n",
      "    Country: USA\n",
      "- Age: 25\n",
      "  Name: efgh\n",
      "  Residence:\n",
      "    City: Madrid\n",
      "    Country: Spain\n",
      "- Age: 26\n",
      "  Name: ijkl\n",
      "  Residence:\n",
      "    City: England\n",
      "    Country: UK\n",
      "- Age: 27\n",
      "  Name: mnop\n",
      "  Residence:\n",
      "    City: Osaka\n",
      "    Country: Japan\n",
      "\n"
     ]
    }
   ],
   "source": [
    "d = [\n",
    "    {'Name': 'Abcd', 'Age' : 24, 'Residence' : {'Country':'USA', 'City':'New york'}},\n",
    "    {'Name': 'efgh', 'Age' : 25, 'Residence' : {'Country':'Spain', 'City':'Madrid'}},\n",
    "    {'Name': 'ijkl', 'Age' : 26, 'Residence' : {'Country':'UK', 'City':'England'}},\n",
    "    {'Name': 'mnop', 'Age' : 27, 'Residence' : {'Country':'Japan', 'City':'Osaka'}},\n",
    "]\n",
    "print(\"Printing using print() function\", d)\n",
    "print(\"-\"*100)\n",
    "\n",
    "import pprint\n",
    "print('Printing using pprint() function')\n",
    "pprint.pprint(d)\n",
    "print('-'*100)\n",
    "\n",
    "import json\n",
    "dump = json.dumps(d, indent=5)\n",
    "print(\"Printing using json.dumps() method\\n\", dump)\n",
    "print('-'*100)\n",
    "\n",
    "import yaml\n",
    "dump = yaml.dump(d)\n",
    "print(\"Printing using yaml.dumps() method\\n\", dump)"
   ]
  },
  {
   "cell_type": "markdown",
   "id": "74aa4296",
   "metadata": {},
   "source": [
    "---------------------------------------------------------------------------------------------------------------------------"
   ]
  }
 ],
 "metadata": {
  "kernelspec": {
   "display_name": "Python 3 (ipykernel)",
   "language": "python",
   "name": "python3"
  },
  "language_info": {
   "codemirror_mode": {
    "name": "ipython",
    "version": 3
   },
   "file_extension": ".py",
   "mimetype": "text/x-python",
   "name": "python",
   "nbconvert_exporter": "python",
   "pygments_lexer": "ipython3",
   "version": "3.9.7"
  }
 },
 "nbformat": 4,
 "nbformat_minor": 5
}
