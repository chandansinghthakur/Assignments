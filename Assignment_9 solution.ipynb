{
 "cells": [
  {
   "cell_type": "markdown",
   "id": "fa2f9cf3",
   "metadata": {},
   "source": [
    "## 1. To what does a relative path refer?"
   ]
  },
  {
   "cell_type": "markdown",
   "id": "80dd411a",
   "metadata": {},
   "source": [
    "Ans: Relative path shows current working directory path."
   ]
  },
  {
   "cell_type": "markdown",
   "id": "f1d23bd2",
   "metadata": {},
   "source": [
    "## 2. What does an absolute path start with your operating system?"
   ]
  },
  {
   "cell_type": "markdown",
   "id": "cecb6255",
   "metadata": {},
   "source": [
    "Ans:  Absolute path = pwd + relative path\n",
    "\n",
    "   Absolute path always start with root directory."
   ]
  },
  {
   "cell_type": "code",
   "execution_count": 12,
   "id": "36a052dd",
   "metadata": {},
   "outputs": [
    {
     "data": {
      "text/plain": [
       "'E:\\\\Assignments\\x01. Python Basic Assignment\\\\code\\\\Assignment_9 solution.ipynb'"
      ]
     },
     "execution_count": 12,
     "metadata": {},
     "output_type": "execute_result"
    }
   ],
   "source": [
    "path = \"E:\\Assignments\\1. Python Basic Assignment\\code\\Assignment_9 solution.ipynb\"\n",
    "os.path.abspath(path)"
   ]
  },
  {
   "cell_type": "markdown",
   "id": "ae5afba5",
   "metadata": {},
   "source": [
    "## 3. What do the functions os.getcwd() and os.chdir() do?"
   ]
  },
  {
   "cell_type": "markdown",
   "id": "252cf4ad",
   "metadata": {},
   "source": [
    "`os.getcwd()` gives current working directory.\n",
    "\n",
    "`os.chdir()` is used to change directory."
   ]
  },
  {
   "cell_type": "markdown",
   "id": "f58a15e2",
   "metadata": {},
   "source": [
    "## 4. What are the . and .. folders?"
   ]
  },
  {
   "cell_type": "markdown",
   "id": "b3e29838",
   "metadata": {},
   "source": [
    "`.` represent the current working directory whereas `..` represent the parent directory of current working directory.\n"
   ]
  },
  {
   "cell_type": "markdown",
   "id": "357348b8",
   "metadata": {},
   "source": [
    "## 5. In C:\\bacon\\eggs\\spam.txt, which part is the dir name, and which part is the base name?"
   ]
  },
  {
   "cell_type": "markdown",
   "id": "cffaffe8",
   "metadata": {},
   "source": [
    "`C:\\bacon\\eggs\\spam.txt`\n",
    "\n",
    "The dir name is `C:\\\\bacon\\\\eggs`\n",
    "\n",
    "The base name is `spam.txt`"
   ]
  },
  {
   "cell_type": "markdown",
   "id": "69708a20",
   "metadata": {},
   "source": [
    "## 6. What are the three “mode” arguments that can be passed to the open() function?"
   ]
  },
  {
   "cell_type": "markdown",
   "id": "8e4264bd",
   "metadata": {},
   "source": [
    "The three modes arguments are \n",
    "\n",
    "1. 'r' ---> open for reading in text mode\n",
    "2. 'w' ---> open for writing\n",
    "3. 'a' ---> open for append"
   ]
  },
  {
   "cell_type": "markdown",
   "id": "44acc217",
   "metadata": {},
   "source": [
    "## 7. What happens if an existing file is opened in write mode?\n"
   ]
  },
  {
   "cell_type": "markdown",
   "id": "bf9c7a90",
   "metadata": {},
   "source": [
    "If an existing file is opened in write mode then it will overwrite the existing content of the file."
   ]
  },
  {
   "cell_type": "markdown",
   "id": "48a97353",
   "metadata": {},
   "source": [
    "## 8. How do you tell the difference between read() and readlines()?"
   ]
  },
  {
   "cell_type": "markdown",
   "id": "f3c13b0c",
   "metadata": {},
   "source": [
    " The main difference is that `read()` will read the whole file at once whereas `readlines()` will read only single line of the file at once."
   ]
  },
  {
   "cell_type": "markdown",
   "id": "48ef3e64",
   "metadata": {},
   "source": [
    "## 9. What data structure does a shelf value resemble?"
   ]
  },
  {
   "cell_type": "markdown",
   "id": "e48ea9f3",
   "metadata": {},
   "source": [
    "it contains keys & values and it represents dictionary"
   ]
  },
  {
   "cell_type": "code",
   "execution_count": null,
   "id": "072cc848",
   "metadata": {},
   "outputs": [],
   "source": []
  }
 ],
 "metadata": {
  "kernelspec": {
   "display_name": "Python 3 (ipykernel)",
   "language": "python",
   "name": "python3"
  },
  "language_info": {
   "codemirror_mode": {
    "name": "ipython",
    "version": 3
   },
   "file_extension": ".py",
   "mimetype": "text/x-python",
   "name": "python",
   "nbconvert_exporter": "python",
   "pygments_lexer": "ipython3",
   "version": "3.9.7"
  }
 },
 "nbformat": 4,
 "nbformat_minor": 5
}
