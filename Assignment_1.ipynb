{
 "cells": [
  {
   "cell_type": "raw",
   "id": "04ab3942",
   "metadata": {},
   "source": [
    "1. In the below elements which of them are values or an expression? eg:- values can be integer or string and expressions will be mathematical operators.\n",
    "    * = Expression\n",
    "    'hello' = value\n",
    "    -87.8 = value\n",
    "    - = expression\n",
    "    / = expression\n",
    "    + = expression\n",
    "    6 = value"
   ]
  },
  {
   "cell_type": "code",
   "execution_count": null,
   "id": "94c7fd67",
   "metadata": {},
   "outputs": [],
   "source": []
  },
  {
   "cell_type": "raw",
   "id": "35366ab3",
   "metadata": {},
   "source": [
    "2. What is the difference between string and variable?\n",
    "String :1. A string is the sequence of characters interpreted inside the single or double quotes.\n",
    "        2. Strings are immutables.\n",
    "        \n",
    "Variable : 1. A variable basically is the name of the location in the primary memory of the computer.\n",
    "           2. It can store eveything from strings to numbers.\n",
    "           3. A variable can store string but string can't.\n"
   ]
  },
  {
   "cell_type": "code",
   "execution_count": null,
   "id": "4d8ab2c0",
   "metadata": {},
   "outputs": [],
   "source": []
  },
  {
   "cell_type": "code",
   "execution_count": 7,
   "id": "9a5858e8",
   "metadata": {},
   "outputs": [
    {
     "name": "stdout",
     "output_type": "stream",
     "text": [
      "<class 'int'>\n",
      "<class 'str'>\n",
      "<class 'complex'>\n"
     ]
    }
   ],
   "source": [
    "# 3. Describe three different data types.\n",
    "# 1. int data type - It can contains positive or negative whole numbers (wiyhout fraction or decimal). \n",
    "# eg.\n",
    "\n",
    "print(type(4565))\n",
    "\n",
    "\n",
    "# 2. str data type - String data type, a string is a collection of one or more characters put inside single or double quotes.\n",
    "# eg.\n",
    "\n",
    "print(type(\"hello sir\"))\n",
    "\n",
    "# 3. complex data type - It is specified as (real part) + (imaginary part).\n",
    "# eg. \n",
    "\n",
    "print(type(5+6j))"
   ]
  },
  {
   "cell_type": "raw",
   "id": "45d8b09a",
   "metadata": {},
   "source": [
    "4. What is an expression made up of ? What do all expressions do?\n",
    "\n",
    "An expression is a combination of mathematical operators and operands that is interpreted to produce some other value.\n",
    "\n",
    "An expressions are used to evaluate the values.\n",
    "eg.  a = 2 + 3"
   ]
  },
  {
   "cell_type": "code",
   "execution_count": null,
   "id": "4118a3ed",
   "metadata": {},
   "outputs": [],
   "source": []
  },
  {
   "cell_type": "raw",
   "id": "530da33c",
   "metadata": {},
   "source": [
    "5. This assignment statements, like spam = 10. What is the difference between an expression and a statement?\n",
    "\n",
    "Expression is a combination of mathematical operators and operands and\n",
    "the statement is just like command that perform some action."
   ]
  },
  {
   "cell_type": "code",
   "execution_count": 19,
   "id": "affdf9b9",
   "metadata": {},
   "outputs": [
    {
     "data": {
      "text/plain": [
       "23"
      ]
     },
     "execution_count": 19,
     "metadata": {},
     "output_type": "execute_result"
    }
   ],
   "source": [
    "# 6. After running the following code, what does the variable bacon contain?\n",
    "\n",
    "bacon = 22\n",
    "bacon + 1\n"
   ]
  },
  {
   "cell_type": "code",
   "execution_count": null,
   "id": "6e71078a",
   "metadata": {},
   "outputs": [],
   "source": []
  },
  {
   "cell_type": "code",
   "execution_count": 20,
   "id": "9761ee6b",
   "metadata": {},
   "outputs": [],
   "source": [
    "# 7. What should the values of the following two terms be?\n",
    "# 'spam' + 'spamspam'\n",
    "# 'spam' * 3"
   ]
  },
  {
   "cell_type": "code",
   "execution_count": 21,
   "id": "be4276b6",
   "metadata": {},
   "outputs": [
    {
     "data": {
      "text/plain": [
       "'spamspamspam'"
      ]
     },
     "execution_count": 21,
     "metadata": {},
     "output_type": "execute_result"
    }
   ],
   "source": [
    "'spam' + 'spamspam'"
   ]
  },
  {
   "cell_type": "code",
   "execution_count": 22,
   "id": "d42ac35f",
   "metadata": {},
   "outputs": [
    {
     "data": {
      "text/plain": [
       "'spamspamspam'"
      ]
     },
     "execution_count": 22,
     "metadata": {},
     "output_type": "execute_result"
    }
   ],
   "source": [
    "'spam' * 3"
   ]
  },
  {
   "cell_type": "code",
   "execution_count": null,
   "id": "1db0dfdc",
   "metadata": {},
   "outputs": [],
   "source": []
  },
  {
   "cell_type": "raw",
   "id": "8708a444",
   "metadata": {},
   "source": [
    "8. Why is eggs a valid variable name while 100 is invalid?\n",
    "\n",
    "egg is a valid variable name while 100 in invalid because we cannot start a variable name with an integer.\n",
    "but we can begin the variable name with a string like alphabet, underscore. "
   ]
  },
  {
   "cell_type": "code",
   "execution_count": null,
   "id": "773eb644",
   "metadata": {},
   "outputs": [],
   "source": []
  },
  {
   "cell_type": "raw",
   "id": "fe542fa2",
   "metadata": {},
   "source": [
    "9. What three functions can be used to get the integer, floating-point number, or string version of a value?\n",
    "\n",
    "For integer , we use ----> str()\n",
    "For floating point number, we use ----> float()\n",
    "For string version of a value, we use ----> str()"
   ]
  },
  {
   "cell_type": "code",
   "execution_count": null,
   "id": "ec290ad5",
   "metadata": {},
   "outputs": [],
   "source": []
  },
  {
   "cell_type": "code",
   "execution_count": 23,
   "id": "b2889d96",
   "metadata": {},
   "outputs": [
    {
     "ename": "TypeError",
     "evalue": "can only concatenate str (not \"int\") to str",
     "output_type": "error",
     "traceback": [
      "\u001b[1;31m---------------------------------------------------------------------------\u001b[0m",
      "\u001b[1;31mTypeError\u001b[0m                                 Traceback (most recent call last)",
      "\u001b[1;32m~\\AppData\\Local\\Temp/ipykernel_3252/329338201.py\u001b[0m in \u001b[0;36m<module>\u001b[1;34m\u001b[0m\n\u001b[0;32m      1\u001b[0m \u001b[1;31m# 10. Why does this expression cause an error? How can you fix it?\u001b[0m\u001b[1;33m\u001b[0m\u001b[1;33m\u001b[0m\u001b[0m\n\u001b[1;32m----> 2\u001b[1;33m \u001b[1;34m'I have eaten '\u001b[0m \u001b[1;33m+\u001b[0m \u001b[1;36m99\u001b[0m \u001b[1;33m+\u001b[0m \u001b[1;34m' burritos.'\u001b[0m\u001b[1;33m\u001b[0m\u001b[1;33m\u001b[0m\u001b[0m\n\u001b[0m",
      "\u001b[1;31mTypeError\u001b[0m: can only concatenate str (not \"int\") to str"
     ]
    }
   ],
   "source": [
    "# 10. Why does this expression cause an error? How can you fix it?\n",
    "'I have eaten ' + 99 + ' burritos'\n"
   ]
  },
  {
   "cell_type": "raw",
   "id": "c2f117ca",
   "metadata": {},
   "source": [
    "Because 99 is an integer and it can't concatenated with strings.\n",
    "so we have to convert interger data type into a string data type by doing typecasting."
   ]
  },
  {
   "cell_type": "code",
   "execution_count": 24,
   "id": "40a03b7e",
   "metadata": {},
   "outputs": [
    {
     "data": {
      "text/plain": [
       "'I have eaten 99 burritos'"
      ]
     },
     "execution_count": 24,
     "metadata": {},
     "output_type": "execute_result"
    }
   ],
   "source": [
    "'I have eaten ' + str(99) + ' burritos'"
   ]
  },
  {
   "cell_type": "code",
   "execution_count": null,
   "id": "a20920fe",
   "metadata": {},
   "outputs": [],
   "source": []
  }
 ],
 "metadata": {
  "kernelspec": {
   "display_name": "Python 3 (ipykernel)",
   "language": "python",
   "name": "python3"
  },
  "language_info": {
   "codemirror_mode": {
    "name": "ipython",
    "version": 3
   },
   "file_extension": ".py",
   "mimetype": "text/x-python",
   "name": "python",
   "nbconvert_exporter": "python",
   "pygments_lexer": "ipython3",
   "version": "3.9.7"
  }
 },
 "nbformat": 4,
 "nbformat_minor": 5
}
