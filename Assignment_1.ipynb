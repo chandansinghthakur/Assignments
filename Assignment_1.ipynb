{
 "cells": [
  {
   "cell_type": "raw",
   "id": "8e187e0d",
   "metadata": {},
   "source": [
    "1. In the below elements which of them are values or an expression? eg:- values can be integer or string and expressions will be mathematical operators.\n",
    "    * = Expression\n",
    "    'hello' = value\n",
    "    -87.8 = value\n",
    "    - = expression\n",
    "    / = expression\n",
    "    + = expression\n",
    "    6 = value"
   ]
  },
  {
   "cell_type": "code",
   "execution_count": null,
   "id": "d06ba57e",
   "metadata": {},
   "outputs": [],
   "source": []
  },
  {
   "cell_type": "raw",
   "id": "71ebb7a0",
   "metadata": {},
   "source": [
    "2. What is the difference between string and variable?\n",
    "String :1. A string is the sequence of characters interpreted inside the single or double quotes.\n",
    "        2. Strings are immutables.\n",
    "        \n",
    "Variable : 1. A variable basically is the name of the location in the primary memory of the computer.\n",
    "           2. It can store eveything from strings to numbers.\n",
    "           3. A variable can store string but string can't.\n"
   ]
  },
  {
   "cell_type": "code",
   "execution_count": null,
   "id": "56bc33eb",
   "metadata": {},
   "outputs": [],
   "source": []
  },
  {
   "cell_type": "code",
   "execution_count": 7,
   "id": "8cce22e0",
   "metadata": {},
   "outputs": [
    {
     "name": "stdout",
     "output_type": "stream",
     "text": [
      "<class 'int'>\n",
      "<class 'str'>\n",
      "<class 'complex'>\n"
     ]
    }
   ],
   "source": [
    "# 3. Describe three different data types.\n",
    "# 1. int data type - It can contains positive or negative whole numbers (wiyhout fraction or decimal). \n",
    "# eg.\n",
    "\n",
    "print(type(4565))\n",
    "\n",
    "\n",
    "# 2. str data type - String data type, a string is a collection of one or more characters put inside single or double quotes.\n",
    "# eg.\n",
    "\n",
    "print(type(\"hello sir\"))\n",
    "\n",
    "# 3. complex data type - It is specified as (real part) + (imaginary part).\n",
    "# eg. \n",
    "\n",
    "print(type(5+6j))"
   ]
  },
  {
   "cell_type": "raw",
   "id": "4d7be2d9",
   "metadata": {},
   "source": [
    "4. What is an expression made up of ? What do all expressions do?\n",
    "\n",
    "An expression is a combination of mathematical operators and operands that is interpreted to produce some other value.\n",
    "\n",
    "An expressions are used to evaluate the values.\n",
    "eg.  a = 2 + 3"
   ]
  },
  {
   "cell_type": "code",
   "execution_count": null,
   "id": "bc7966a3",
   "metadata": {},
   "outputs": [],
   "source": []
  },
  {
   "cell_type": "raw",
   "id": "f90958e2",
   "metadata": {},
   "source": [
    "5. This assignment statements, like spam = 10. What is the difference between an expression and a statement?\n",
    "\n",
    "Expression is a combination of mathematical operators and operands and\n",
    "the statement is just like command that perform some action."
   ]
  },
  {
   "cell_type": "code",
   "execution_count": 19,
   "id": "ad3e673e",
   "metadata": {},
   "outputs": [
    {
     "data": {
      "text/plain": [
       "23"
      ]
     },
     "execution_count": 19,
     "metadata": {},
     "output_type": "execute_result"
    }
   ],
   "source": [
    "# 6. After running the following code, what does the variable bacon contain?\n",
    "\n",
    "bacon = 22\n",
    "bacon + 1\n"
   ]
  },
  {
   "cell_type": "code",
   "execution_count": null,
   "id": "a9b5e98f",
   "metadata": {},
   "outputs": [],
   "source": []
  },
  {
   "cell_type": "code",
   "execution_count": 20,
   "id": "09aef685",
   "metadata": {},
   "outputs": [],
   "source": [
    "# 7. What should the values of the following two terms be?\n",
    "# 'spam' + 'spamspam'\n",
    "# 'spam' * 3"
   ]
  },
  {
   "cell_type": "code",
   "execution_count": 21,
   "id": "fce841b1",
   "metadata": {},
   "outputs": [
    {
     "data": {
      "text/plain": [
       "'spamspamspam'"
      ]
     },
     "execution_count": 21,
     "metadata": {},
     "output_type": "execute_result"
    }
   ],
   "source": [
    "'spam' + 'spamspam'"
   ]
  },
  {
   "cell_type": "code",
   "execution_count": 22,
   "id": "71ce3c5a",
   "metadata": {},
   "outputs": [
    {
     "data": {
      "text/plain": [
       "'spamspamspam'"
      ]
     },
     "execution_count": 22,
     "metadata": {},
     "output_type": "execute_result"
    }
   ],
   "source": [
    "'spam' * 3"
   ]
  },
  {
   "cell_type": "code",
   "execution_count": null,
   "id": "e7be5de1",
   "metadata": {},
   "outputs": [],
   "source": []
  },
  {
   "cell_type": "raw",
   "id": "91035b2a",
   "metadata": {},
   "source": [
    "8. Why is eggs a valid variable name while 100 is invalid?\n",
    "\n",
    "egg is a valid variable name while 100 in invalid because we cannot start a variable name with an integer.\n",
    "but we can begin the variable name with a string like alphabet, underscore. "
   ]
  },
  {
   "cell_type": "code",
   "execution_count": null,
   "id": "0ae47d38",
   "metadata": {},
   "outputs": [],
   "source": []
  },
  {
   "cell_type": "raw",
   "id": "494028b7",
   "metadata": {},
   "source": [
    "9. What three functions can be used to get the integer, floating-point number, or string version of a value?\n",
    "\n",
    "For integer , we use ----> str()\n",
    "For floating point number, we use ----> float()\n",
    "For string version of a value, we use ----> str()"
   ]
  },
  {
   "cell_type": "code",
   "execution_count": null,
   "id": "b96de52f",
   "metadata": {},
   "outputs": [],
   "source": []
  },
  {
   "cell_type": "code",
   "execution_count": 23,
   "id": "dc2eb04c",
   "metadata": {},
   "outputs": [
    {
     "ename": "TypeError",
     "evalue": "can only concatenate str (not \"int\") to str",
     "output_type": "error",
     "traceback": [
      "\u001b[1;31m---------------------------------------------------------------------------\u001b[0m",
      "\u001b[1;31mTypeError\u001b[0m                                 Traceback (most recent call last)",
      "\u001b[1;32m~\\AppData\\Local\\Temp/ipykernel_3252/329338201.py\u001b[0m in \u001b[0;36m<module>\u001b[1;34m\u001b[0m\n\u001b[0;32m      1\u001b[0m \u001b[1;31m# 10. Why does this expression cause an error? How can you fix it?\u001b[0m\u001b[1;33m\u001b[0m\u001b[1;33m\u001b[0m\u001b[0m\n\u001b[1;32m----> 2\u001b[1;33m \u001b[1;34m'I have eaten '\u001b[0m \u001b[1;33m+\u001b[0m \u001b[1;36m99\u001b[0m \u001b[1;33m+\u001b[0m \u001b[1;34m' burritos.'\u001b[0m\u001b[1;33m\u001b[0m\u001b[1;33m\u001b[0m\u001b[0m\n\u001b[0m",
      "\u001b[1;31mTypeError\u001b[0m: can only concatenate str (not \"int\") to str"
     ]
    }
   ],
   "source": [
    "# 10. Why does this expression cause an error? How can you fix it?\n",
    "'I have eaten ' + 99 + ' burritos'\n"
   ]
  },
  {
   "cell_type": "raw",
   "id": "f1d067a6",
   "metadata": {},
   "source": [
    "Because 99 is an integer and it can't concated with strings.\n",
    "so we have to convert interger data type into a string data type by doing typecasting."
   ]
  },
  {
   "cell_type": "code",
   "execution_count": 24,
   "id": "95691784",
   "metadata": {},
   "outputs": [
    {
     "data": {
      "text/plain": [
       "'I have eaten 99 burritos'"
      ]
     },
     "execution_count": 24,
     "metadata": {},
     "output_type": "execute_result"
    }
   ],
   "source": [
    "'I have eaten ' + str(99) + ' burritos'"
   ]
  },
  {
   "cell_type": "code",
   "execution_count": null,
   "id": "607f5677",
   "metadata": {},
   "outputs": [],
   "source": []
  }
 ],
 "metadata": {
  "kernelspec": {
   "display_name": "Python 3 (ipykernel)",
   "language": "python",
   "name": "python3"
  },
  "language_info": {
   "codemirror_mode": {
    "name": "ipython",
    "version": 3
   },
   "file_extension": ".py",
   "mimetype": "text/x-python",
   "name": "python",
   "nbconvert_exporter": "python",
   "pygments_lexer": "ipython3",
   "version": "3.9.7"
  }
 },
 "nbformat": 4,
 "nbformat_minor": 5
}
