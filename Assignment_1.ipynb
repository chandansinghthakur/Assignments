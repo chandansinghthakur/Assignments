{
 "cells": [
  {
   "cell_type": "markdown",
   "id": "fc0a0a19",
   "metadata": {},
   "source": [
    "Q1. In the below elements which of them are values or an expression? eg:- values can be integer or string and expressions will be mathematical operators.\n",
    "\n",
    "*  ----------> Expression\n",
    "\n",
    "'hello'  ----> value\n",
    "\n",
    "-87.8 -------> value\n",
    "\n",
    "-   ---------> expression\n",
    "\n",
    "/  ----------> expression\n",
    "\n",
    "+  ----------> expression\n",
    "\n",
    "6  ----------> value"
   ]
  },
  {
   "cell_type": "markdown",
   "id": "37fe1d56",
   "metadata": {},
   "source": [
    "---------------------------------------------------------------------------------------------------------------------------"
   ]
  },
  {
   "cell_type": "code",
   "execution_count": null,
   "id": "89bc29e8",
   "metadata": {},
   "outputs": [],
   "source": [
    "Q2. What is the difference between string and variable?\n",
    "String :1. A string is the sequence of characters interpreted inside the single or double quotes.\n",
    "        2. Strings are immutables.\n",
    "        \n",
    "Variable : 1. A variable basically is the name of the location in the primary memory of the computer.\n",
    "           2. It can store eveything from strings to numbers.\n",
    "           3. A variable can store string but string can't.\n"
   ]
  },
  {
   "cell_type": "markdown",
   "id": "0b9c8f3a",
   "metadata": {},
   "source": [
    "---------------------------------------------------------------------------------------------------------------------------"
   ]
  },
  {
   "cell_type": "code",
   "execution_count": 7,
   "id": "51b520ea",
   "metadata": {},
   "outputs": [
    {
     "name": "stdout",
     "output_type": "stream",
     "text": [
      "<class 'int'>\n",
      "<class 'str'>\n",
      "<class 'complex'>\n"
     ]
    }
   ],
   "source": [
    "# Q3. Describe three different data types.\n",
    "\n",
    "# 1. int data type - It can contains positive or negative whole numbers (wiyhout fraction or decimal). \n",
    "# eg.\n",
    "\n",
    "print(type(4565))\n",
    "\n",
    "\n",
    "# 2. str data type - String data type, a string is a collection of one or more characters put inside single or double quotes.\n",
    "# eg.\n",
    "\n",
    "print(type(\"hello sir\"))\n",
    "\n",
    "# 3. complex data type - It is specified as (real part) + (imaginary part).\n",
    "# eg. \n",
    "\n",
    "print(type(5+6j))"
   ]
  },
  {
   "cell_type": "markdown",
   "id": "04310521",
   "metadata": {},
   "source": [
    "---------------------------------------------------------------------------------------------------------------------------"
   ]
  },
  {
   "cell_type": "markdown",
   "id": "52e42b9c",
   "metadata": {},
   "source": [
    "Q4. What is an expression made up of ? What do all expressions do?\n",
    "\n",
    "An expression is a combination of mathematical operators and operands that is interpreted to produce some other value.\n",
    "\n",
    "An expressions are used to evaluate the values.\n",
    "eg.  a = 2 + 3"
   ]
  },
  {
   "cell_type": "markdown",
   "id": "a4ab3b1c",
   "metadata": {},
   "source": [
    "---------------------------------------------------------------------------------------------------------------------------"
   ]
  },
  {
   "cell_type": "markdown",
   "id": "0925065e",
   "metadata": {},
   "source": [
    "Q5. This assignment statements, like spam = 10. What is the difference between an expression and a statement?\n",
    "\n",
    "Expression is a combination of mathematical operators and operands and\n",
    "the statement is just like command that perform some action."
   ]
  },
  {
   "cell_type": "markdown",
   "id": "852e9646",
   "metadata": {},
   "source": [
    "---------------------------------------------------------------------------------------------------------------------------"
   ]
  },
  {
   "cell_type": "code",
   "execution_count": 19,
   "id": "1745012d",
   "metadata": {},
   "outputs": [
    {
     "data": {
      "text/plain": [
       "23"
      ]
     },
     "execution_count": 19,
     "metadata": {},
     "output_type": "execute_result"
    }
   ],
   "source": [
    "# Q6. After running the following code, what does the variable bacon contain?\n",
    "\n",
    "bacon = 22\n",
    "bacon + 1\n"
   ]
  },
  {
   "cell_type": "code",
   "execution_count": null,
   "id": "90308e21",
   "metadata": {},
   "outputs": [],
   "source": [
    "---------------------------------------------------------------------------------------------------------------------------"
   ]
  },
  {
   "cell_type": "markdown",
   "id": "244dd76c",
   "metadata": {},
   "source": [
    "Q7. What should the values of the following two terms be?\n",
    "'spam' + 'spamspam'\n",
    "'spam' * 3"
   ]
  },
  {
   "cell_type": "code",
   "execution_count": 21,
   "id": "5a456d3d",
   "metadata": {},
   "outputs": [
    {
     "data": {
      "text/plain": [
       "'spamspamspam'"
      ]
     },
     "execution_count": 21,
     "metadata": {},
     "output_type": "execute_result"
    }
   ],
   "source": [
    "'spam' + 'spamspam'"
   ]
  },
  {
   "cell_type": "code",
   "execution_count": 22,
   "id": "9283dd99",
   "metadata": {},
   "outputs": [
    {
     "data": {
      "text/plain": [
       "'spamspamspam'"
      ]
     },
     "execution_count": 22,
     "metadata": {},
     "output_type": "execute_result"
    }
   ],
   "source": [
    "'spam' * 3"
   ]
  },
  {
   "cell_type": "markdown",
   "id": "b2bb81af",
   "metadata": {},
   "source": [
    "---------------------------------------------------------------------------------------------------------------------------"
   ]
  },
  {
   "cell_type": "markdown",
   "id": "9625ecd0",
   "metadata": {},
   "source": [
    "Q8. Why is eggs a valid variable name while 100 is invalid?\n",
    "\n",
    "egg is a valid variable name while 100 in invalid because we cannot start a variable name with an integer.\n",
    "but we can begin the variable name with a string like alphabet, underscore. "
   ]
  },
  {
   "cell_type": "markdown",
   "id": "f32b96c3",
   "metadata": {},
   "source": [
    "---------------------------------------------------------------------------------------------------------------------------"
   ]
  },
  {
   "cell_type": "markdown",
   "id": "0a625d41",
   "metadata": {},
   "source": [
    "Q9. What three functions can be used to get the integer, floating-point number, or string version of a value?\n",
    "\n",
    "For integer , we use ----> str()\n",
    "For floating point number, we use ----> float()\n",
    "For string version of a value, we use ----> str()"
   ]
  },
  {
   "cell_type": "markdown",
   "id": "6ca45eec",
   "metadata": {},
   "source": [
    "---------------------------------------------------------------------------------------------------------------------------"
   ]
  },
  {
   "cell_type": "code",
   "execution_count": 23,
   "id": "9bbd8621",
   "metadata": {},
   "outputs": [
    {
     "ename": "TypeError",
     "evalue": "can only concatenate str (not \"int\") to str",
     "output_type": "error",
     "traceback": [
      "\u001b[1;31m---------------------------------------------------------------------------\u001b[0m",
      "\u001b[1;31mTypeError\u001b[0m                                 Traceback (most recent call last)",
      "\u001b[1;32m~\\AppData\\Local\\Temp/ipykernel_3252/329338201.py\u001b[0m in \u001b[0;36m<module>\u001b[1;34m\u001b[0m\n\u001b[0;32m      1\u001b[0m \u001b[1;31m# 10. Why does this expression cause an error? How can you fix it?\u001b[0m\u001b[1;33m\u001b[0m\u001b[1;33m\u001b[0m\u001b[0m\n\u001b[1;32m----> 2\u001b[1;33m \u001b[1;34m'I have eaten '\u001b[0m \u001b[1;33m+\u001b[0m \u001b[1;36m99\u001b[0m \u001b[1;33m+\u001b[0m \u001b[1;34m' burritos.'\u001b[0m\u001b[1;33m\u001b[0m\u001b[1;33m\u001b[0m\u001b[0m\n\u001b[0m",
      "\u001b[1;31mTypeError\u001b[0m: can only concatenate str (not \"int\") to str"
     ]
    }
   ],
   "source": [
    "Q10. Why does this expression cause an error? How can you fix it?\n",
    "'I have eaten ' + 99 + ' burritos'\n"
   ]
  },
  {
   "cell_type": "markdown",
   "id": "ea26cefc",
   "metadata": {},
   "source": [
    "Because 99 is an integer and it can't concatenated with strings.\n",
    "so we have to convert interger data type into a string data type by doing typecasting."
   ]
  },
  {
   "cell_type": "code",
   "execution_count": 24,
   "id": "f60526a5",
   "metadata": {},
   "outputs": [
    {
     "data": {
      "text/plain": [
       "'I have eaten 99 burritos'"
      ]
     },
     "execution_count": 24,
     "metadata": {},
     "output_type": "execute_result"
    }
   ],
   "source": [
    "'I have eaten ' + str(99) + ' burritos'"
   ]
  },
  {
   "cell_type": "markdown",
   "id": "5feaf07d",
   "metadata": {},
   "source": [
    "---------------------------------------------------------------------------------------------------------------------------"
   ]
  }
 ],
 "metadata": {
  "kernelspec": {
   "display_name": "Python 3 (ipykernel)",
   "language": "python",
   "name": "python3"
  },
  "language_info": {
   "codemirror_mode": {
    "name": "ipython",
    "version": 3
   },
   "file_extension": ".py",
   "mimetype": "text/x-python",
   "name": "python",
   "nbconvert_exporter": "python",
   "pygments_lexer": "ipython3",
   "version": "3.9.7"
  }
 },
 "nbformat": 4,
 "nbformat_minor": 5
}
