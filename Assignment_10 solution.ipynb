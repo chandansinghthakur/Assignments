{
 "cells": [
  {
   "cell_type": "markdown",
   "id": "f9efee3b",
   "metadata": {},
   "source": [
    "## 1. How do you distinguish between shutil.copy() and shutil.copytree()?"
   ]
  },
  {
   "cell_type": "markdown",
   "id": "9e7cb31e",
   "metadata": {},
   "source": [
    "Ans: `shutil.copy()` will copy only single file/folder whereas `shutil.copytree()` will copy entire folder whatever files/folder contains in it."
   ]
  },
  {
   "cell_type": "markdown",
   "id": "023d455d",
   "metadata": {},
   "source": [
    "## 2. What function is used to rename files??"
   ]
  },
  {
   "cell_type": "markdown",
   "id": "be99bda0",
   "metadata": {},
   "source": [
    "Ans: `import os` module then,\n",
    "    `os.rename()` to rename a file.\n",
    "    \n",
    "   `os.rename()` function takes two arguments."
   ]
  },
  {
   "cell_type": "markdown",
   "id": "238ccab0",
   "metadata": {},
   "source": [
    "## 3. What is the difference between the delete functions in the send2trash and shutil modules?"
   ]
  },
  {
   "cell_type": "markdown",
   "id": "abee6392",
   "metadata": {},
   "source": [
    "Ans: Shutil module provides a funciton called as `shutil.rmtree()` which deletes a directory and all its contents.\n",
    "\n",
    "The other functions with similar functionality are `os.remove()` -> removes a file, `os.rmdir()` removes a empty directory.\n",
    "\n",
    "The problem with these functions is once a file is deleted. it will be lost permanently, if a file is deleted accidentally using these methods there is no way we can recover the deleted file.\n",
    "\n",
    "Where as send2trash module provides a function called `send2trash.send2trash()` to delete a file/directory. \n",
    "\n",
    "These methods moves the files/directories to trash folder instead of permanently deleting them. hence if a file/folder is deleted accidentally it can be still recovered from trash folder, if is deleted using the `send2trash.send2trash()` function. \n",
    "`send2trash` is not included with python standard libary like `os` & `shutil` modules. \n",
    "\n",
    "it needs to be installed explicitly using the command `!pip install send2trash`"
   ]
  },
  {
   "cell_type": "markdown",
   "id": "4e30a354",
   "metadata": {},
   "source": [
    "## 4.ZipFile objects have a close() method just like File objects’ close() method. What ZipFile method is equivalent to File objects’ open() method?"
   ]
  },
  {
   "cell_type": "markdown",
   "id": "dfb65bb5",
   "metadata": {},
   "source": [
    "Ans: ZipFile module provides a method called as `zipfile.Zipfile()` to read and write zipFiles.\n",
    "    \n",
    " It takes arguments like filename and mode etc..\n",
    "    \n",
    "`zipfile.ZipFile('filename', mode='r')`"
   ]
  },
  {
   "cell_type": "markdown",
   "id": "cde59208",
   "metadata": {},
   "source": [
    "## 5. Create a programme that searches a folder tree for files with a certain file extension (such as .pdf or .jpg). Copy these files from whatever location they are in to a new folder."
   ]
  },
  {
   "cell_type": "code",
   "execution_count": 4,
   "id": "a0dc1e92",
   "metadata": {},
   "outputs": [
    {
     "name": "stdout",
     "output_type": "stream",
     "text": [
      "Folder name : F:\\DL\n",
      "\n",
      "Subfolder names : ['v']\n",
      "\n",
      "File name : ['Acknowledgement slip.pdf', 'LL.pdf', 'pre filled form.pdf']\n",
      "\n",
      "Files copied successfully from F:\\DL to F:\\stuff\n",
      "Folder name : F:\\DL\\v\n",
      "\n",
      "Subfolder names : []\n",
      "\n",
      "File name : ['APS EVS.docx', 'APS Maths.docx', 'APS MATHS1.pdf', 'cccccccccccccccccccc.pdf', 'chart paper (1).pdf', 'chart paper.pdf', 'earth-rotation.png', 'eevvsssss.pdf', 'evs lp.pdf', 'final maths.pdf', 'grunge-globe-border-background-2228112.jpg', 'images.jfif', 'IMG-20220323-WA0001.jpg', 'IMG-20220324-WA0016.jpg', 'IMG-20220324-WA0017.jpg', 'IMG-20220324-WA0019.jpg', 'IMG-20220324-WA0021.jpg', 'IMG-20220324-WA0022.jpg', 'IMG-20220324-WA0023.jpg', 'IMG-20220324-WA0024.jpg', 'IMG-20220324-WA0025.jpg', 'IMG-20220324-WA0026.jpg', 'IMG-20220324-WA0027.jpg', 'IMG-20220324-WA0028.jpg', 'IMG-20220324-WA0029.jpg', 'IMG-20220324-WA0030.jpg', 'IMG-20220324-WA0031.jpg', 'LP evs.pdf', 'LP maths.pdf', 'maths frontpage.pdf', 'nots and coin.pdf', 'revolution of earth.jpg', 'sdgsfhfjt.pdf', 'solar system.png', 'vvvvvvvvvvvvvvvvvvvvvvvvvvv.pdf', 'WhatsApp Image 2022-03-23 at 10.11.20 AM.jpeg', 'WhatsApp Image 2022-03-23 at 11.15.38 AM.jpeg', 'WhatsApp Image 2022-03-23 at 11.18.02 AM.jpeg', 'WhatsApp Image 2022-03-23 at 11.20.04 AM (1).jpeg', 'WhatsApp Image 2022-03-23 at 11.20.04 AM.jpeg', 'WhatsApp Image 2022-03-23 at 11.20.05 AM.jpeg', 'WhatsApp Image 2022-03-23 at 11.27.58 AM.jpeg', 'WhatsApp Image 2022-03-23 at 11.32.33 AM.jpeg', 'WhatsApp Image 2022-03-23 at 11.45.06 AM.jpeg', 'WhatsApp Image 2022-03-23 at 12.16.53 PM.jpeg', 'WhatsApp Image 2022-03-23 at 12.24.59 PM (1).jpeg', 'WhatsApp Image 2022-03-23 at 12.24.59 PM.jpeg', 'WhatsApp Image 2022-03-23 at 12.31.14 PM (1).jpeg', 'WhatsApp Image 2022-03-23 at 12.31.14 PM.jpeg', 'WhatsApp Image 2022-03-23 at 9.18.19 AM.jpeg', 'WhatsApp Image 2022-03-23 at 9.18.21 AM.jpeg', 'WhatsApp Image 2022-03-23 at 9.41.52 AM.jpeg']\n",
      "\n",
      "Files copied successfully from F:\\DL to F:\\stuff\n"
     ]
    }
   ],
   "source": [
    "import os\n",
    "import shutil\n",
    "\n",
    "def searchandcopy(src,dst,ext):\n",
    "    src=os.path.abspath(src)\n",
    "    dst = os.path.abspath(dst)\n",
    "    for foldername, subfolder, filename in os.walk(src):\n",
    "        print(f\"Folder name : {foldername}\", end='\\n\\n')\n",
    "        print(f\"Subfolder names : {subfolder}\", end='\\n\\n')\n",
    "        print(f\"File name : {filename}\", end='\\n\\n')\n",
    "        for file_name in filename:\n",
    "            fileName, extension = os.path.splitext(file_name)\n",
    "            if extension in ext:\n",
    "                targetFile = foldername+os.path.sep+fileName+extension\n",
    "                shutil.copy(targetFile, dst)\n",
    "        print(f'Files copied successfully from {src} to {dst}')\n",
    "    \n",
    "ext = ['.pdf','.jpg','.ipynb']\n",
    "src = \"F:\\DL\"\n",
    "dst = \"F:\\stuff\"\n",
    "searchandcopy(src, dst, ext)"
   ]
  },
  {
   "cell_type": "code",
   "execution_count": null,
   "id": "f167fe0c",
   "metadata": {},
   "outputs": [],
   "source": []
  }
 ],
 "metadata": {
  "kernelspec": {
   "display_name": "Python 3 (ipykernel)",
   "language": "python",
   "name": "python3"
  },
  "language_info": {
   "codemirror_mode": {
    "name": "ipython",
    "version": 3
   },
   "file_extension": ".py",
   "mimetype": "text/x-python",
   "name": "python",
   "nbconvert_exporter": "python",
   "pygments_lexer": "ipython3",
   "version": "3.9.7"
  }
 },
 "nbformat": 4,
 "nbformat_minor": 5
}
