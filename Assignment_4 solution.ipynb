{
 "cells": [
  {
   "cell_type": "markdown",
   "id": "3cfa3676",
   "metadata": {},
   "source": [
    "Q1. What exactly is `[]`?\n",
    "\n",
    "Ans: `[]` this is the representation of list that contains no items."
   ]
  },
  {
   "cell_type": "markdown",
   "id": "a1e710a8",
   "metadata": {},
   "source": [
    "---------------------------------------------------------------------------------------------------------------------------"
   ]
  },
  {
   "cell_type": "markdown",
   "id": "e036e546",
   "metadata": {},
   "source": [
    "Q2. In a list of values stored in a variable called spam, how would you assign the value 'hello' as the third value? (Assume [2, 4, 6, 8, 10] are in spam.)\n",
    "\n",
    "Ans:"
   ]
  },
  {
   "cell_type": "code",
   "execution_count": 64,
   "id": "19645efb",
   "metadata": {},
   "outputs": [
    {
     "name": "stdout",
     "output_type": "stream",
     "text": [
      "[2, 4, 6, 8, 10]\n",
      "[2, 4, 'hello', 8, 10]\n"
     ]
    }
   ],
   "source": [
    "spam = [2,4,6,8,10]\n",
    "print(spam)\n",
    "spam[2] = \"hello\"\n",
    "print(spam)"
   ]
  },
  {
   "cell_type": "markdown",
   "id": "e9d59186",
   "metadata": {},
   "source": [
    "---------------------------------------------------------------------------------------------------------------------------"
   ]
  },
  {
   "cell_type": "markdown",
   "id": "67e6d6d7",
   "metadata": {},
   "source": [
    "Let's pretend the spam includes the list ['a', 'b', 'c', 'd'] for the next three queries."
   ]
  },
  {
   "cell_type": "markdown",
   "id": "92eac169",
   "metadata": {},
   "source": [
    "Q3. What is the value of `spam[int(int('3' * 2) / 11)]`?"
   ]
  },
  {
   "cell_type": "code",
   "execution_count": 67,
   "id": "eb3ca9a4",
   "metadata": {},
   "outputs": [
    {
     "name": "stdout",
     "output_type": "stream",
     "text": [
      "spam[int(int('3'*2)/11)]\n"
     ]
    }
   ],
   "source": [
    "spam = ['a', 'b', 'c', 'd']\n",
    "print(\"spam[int(int('3'*2)/11)]\")"
   ]
  },
  {
   "cell_type": "markdown",
   "id": "507841ac",
   "metadata": {},
   "source": [
    "---------------------------------------------------------------------------------------------------------------------------"
   ]
  },
  {
   "cell_type": "markdown",
   "id": "d787866b",
   "metadata": {},
   "source": [
    "Q4. What is the value of spam[-1]?"
   ]
  },
  {
   "cell_type": "code",
   "execution_count": 68,
   "id": "e5e51c94",
   "metadata": {},
   "outputs": [
    {
     "name": "stdout",
     "output_type": "stream",
     "text": [
      "['a', 'b', 'c', 'd']\n",
      "spam[-1] is : d\n"
     ]
    }
   ],
   "source": [
    "spam = ['a', 'b', 'c', 'd']\n",
    "print(spam)\n",
    "print(\"spam[-1] is :\", spam[-1])"
   ]
  },
  {
   "cell_type": "markdown",
   "id": "a1527e6a",
   "metadata": {},
   "source": [
    "---------------------------------------------------------------------------------------------------------------------------"
   ]
  },
  {
   "cell_type": "markdown",
   "id": "80e65b97",
   "metadata": {},
   "source": [
    "Q5. What is the value of spam[:2]?"
   ]
  },
  {
   "cell_type": "code",
   "execution_count": 69,
   "id": "6fcc75e4",
   "metadata": {},
   "outputs": [
    {
     "name": "stdout",
     "output_type": "stream",
     "text": [
      "['a', 'b', 'c', 'd']\n",
      "spam[:2] is  : ['a', 'b']\n"
     ]
    }
   ],
   "source": [
    "spam = ['a', 'b', 'c', 'd']\n",
    "print(spam)\n",
    "print(\"spam[:2] is  :\", spam[:2])"
   ]
  },
  {
   "cell_type": "markdown",
   "id": "4c07559d",
   "metadata": {},
   "source": [
    "---------------------------------------------------------------------------------------------------------------------------"
   ]
  },
  {
   "cell_type": "markdown",
   "id": "733eabbe",
   "metadata": {},
   "source": [
    "Let's pretend bacon has the list [3.14, 'cat,' 11, 'cat,' True] for the next three questions."
   ]
  },
  {
   "cell_type": "markdown",
   "id": "57e34a7e",
   "metadata": {},
   "source": [
    "Q6. What is the value of bacon.index('cat')?"
   ]
  },
  {
   "cell_type": "code",
   "execution_count": 70,
   "id": "d350d3c4",
   "metadata": {},
   "outputs": [
    {
     "name": "stdout",
     "output_type": "stream",
     "text": [
      "[3.14, 'cat', 11, 'cat', True]\n",
      "The value of bacon.index('cat') is :  1\n"
     ]
    }
   ],
   "source": [
    "bacon = [3.14, 'cat', 11, 'cat', True]\n",
    "print(bacon)\n",
    "print(\"The value of bacon.index('cat') is : \", bacon.index('cat')) #index method returns the value of first occurance of 'cat'"
   ]
  },
  {
   "cell_type": "markdown",
   "id": "e5b414fc",
   "metadata": {},
   "source": [
    "---------------------------------------------------------------------------------------------------------------------------"
   ]
  },
  {
   "cell_type": "markdown",
   "id": "1cf72568",
   "metadata": {},
   "source": [
    "Q7. How does bacon.append(99) change the look of the list value in bacon?"
   ]
  },
  {
   "cell_type": "code",
   "execution_count": 71,
   "id": "7ddebfce",
   "metadata": {},
   "outputs": [
    {
     "name": "stdout",
     "output_type": "stream",
     "text": [
      "[3.14, 'cat', 11, 'cat', True]\n",
      "[3.14, 'cat', 11, 'cat', True, 99] \n",
      "\n",
      "The append method adds new element to the end of the list\n"
     ]
    }
   ],
   "source": [
    "bacon = [3.14, 'cat', 11, 'cat', True]\n",
    "print(bacon)\n",
    "bacon.append(99) \n",
    "print(bacon, \"\\n\\nThe append method adds new element to the end of the list\")"
   ]
  },
  {
   "cell_type": "markdown",
   "id": "16e87248",
   "metadata": {},
   "source": [
    "---------------------------------------------------------------------------------------------------------------------------"
   ]
  },
  {
   "cell_type": "markdown",
   "id": "1f191e5a",
   "metadata": {},
   "source": [
    "Q8. How does bacon.remove('cat') change the look of the list in bacon?"
   ]
  },
  {
   "cell_type": "code",
   "execution_count": 72,
   "id": "bbfca221",
   "metadata": {},
   "outputs": [
    {
     "name": "stdout",
     "output_type": "stream",
     "text": [
      "[3.14, 'cat', 11, 'cat', True]\n",
      "[3.14, 11, 'cat', True] \n",
      "\n",
      "The remove method removes the value of first occurance of 'cat'\n"
     ]
    }
   ],
   "source": [
    "bacon = [3.14, 'cat', 11, 'cat', True]\n",
    "print(bacon)\n",
    "bacon.remove('cat')\n",
    "print(bacon, \"\\n\\nThe remove method removes the value of first occurance of 'cat'\")"
   ]
  },
  {
   "cell_type": "markdown",
   "id": "b0c2f143",
   "metadata": {},
   "source": [
    "---------------------------------------------------------------------------------------------------------------------------"
   ]
  },
  {
   "cell_type": "markdown",
   "id": "8cde68d6",
   "metadata": {},
   "source": [
    "Q9. What are the list concatenation and list replication operators?"
   ]
  },
  {
   "cell_type": "markdown",
   "id": "28d56afe",
   "metadata": {},
   "source": [
    "Ans: The operator for list concatenation is +, and the operator for replication is *.\n",
    "    Example:-"
   ]
  },
  {
   "cell_type": "code",
   "execution_count": 73,
   "id": "5b159ddc",
   "metadata": {},
   "outputs": [
    {
     "name": "stdout",
     "output_type": "stream",
     "text": [
      "['abc', 'def', 'ghi', 'mno', 'pqr', 'stu'] --->This is list concatenation\n",
      "['abc', 'def', 'ghi', 'abc', 'def', 'ghi', 'abc', 'def', 'ghi'] ----> This is list replication\n"
     ]
    }
   ],
   "source": [
    "list_1 = ['abc', 'def', 'ghi']\n",
    "list_2 = ['mno', 'pqr', 'stu']\n",
    "\n",
    "list_3 = list_1 + list_2\n",
    "print(list_3, \"--->This is list concatenation\")\n",
    "\n",
    "list_4 = list_1 * 3\n",
    "print(list_4, \"----> This is list replication\")"
   ]
  },
  {
   "cell_type": "markdown",
   "id": "65bbc372",
   "metadata": {},
   "source": [
    "---------------------------------------------------------------------------------------------------------------------------"
   ]
  },
  {
   "cell_type": "markdown",
   "id": "be620520",
   "metadata": {},
   "source": [
    "Q10. What is difference between the list methods append() and insert()?"
   ]
  },
  {
   "cell_type": "markdown",
   "id": "bf3d5c70",
   "metadata": {},
   "source": [
    "Ans: Append method add the element to the end of the list, while insert method can add the element anywhere in the list.\n",
    "    Example:-"
   ]
  },
  {
   "cell_type": "code",
   "execution_count": 75,
   "id": "8b1d5647",
   "metadata": {},
   "outputs": [
    {
     "name": "stdout",
     "output_type": "stream",
     "text": [
      "[1, 2, 3, 4]\n",
      "[1, 2, 3, 4, 'append']\n",
      "[1, 2, 'insert', 3, 4, 'append']\n"
     ]
    }
   ],
   "source": [
    "\n",
    "print(l)\n",
    "l.append('append')\n",
    "print(l)\n",
    "l.insert(2, 'insert')\n",
    "print(l)"
   ]
  },
  {
   "cell_type": "markdown",
   "id": "5daab490",
   "metadata": {},
   "source": [
    "---------------------------------------------------------------------------------------------------------------------------"
   ]
  },
  {
   "cell_type": "markdown",
   "id": "7144537b",
   "metadata": {},
   "source": [
    "Q11. What are the two methods for removing items from a list?"
   ]
  },
  {
   "cell_type": "markdown",
   "id": "8afe8d6a",
   "metadata": {},
   "source": [
    "Ans: The `del` statement and the `remove()` method are the two ways to removing the items from the list."
   ]
  },
  {
   "cell_type": "code",
   "execution_count": 77,
   "id": "04db282c",
   "metadata": {},
   "outputs": [
    {
     "name": "stdout",
     "output_type": "stream",
     "text": [
      "['abc', 'def', 'ghi', 'jkl', 'mno', 'pqr']\n",
      "['abc', 'def', 'jkl', 'mno', 'pqr'] ----> Removing element using del statement\n",
      "['abc', 'def', 'jkl', 'mno'] ----> Removing element using remove method\n"
     ]
    }
   ],
   "source": [
    "# Example:-\n",
    "l = ['abc', 'def', 'ghi', 'jkl', 'mno', 'pqr'] \n",
    "print(l)\n",
    "\n",
    "del l[2]\n",
    "print(l, \"----> Removing element using del statement\")\n",
    "\n",
    "l.remove('pqr')\n",
    "print(l, \"----> Removing element using remove method\")"
   ]
  },
  {
   "cell_type": "markdown",
   "id": "6a140f53",
   "metadata": {},
   "source": [
    "---------------------------------------------------------------------------------------------------------------------------"
   ]
  },
  {
   "cell_type": "markdown",
   "id": "3e90dbb3",
   "metadata": {},
   "source": [
    "Q12. Describe how list values and string values are identical."
   ]
  },
  {
   "cell_type": "markdown",
   "id": "54961c4b",
   "metadata": {},
   "source": [
    "Ans: list and string values are identicals in the following ways:-\n",
    "\n",
    "   1. Both can be passed to `len()` function.\n",
    "   2. Both have indexes and slices.\n",
    "   3. Both can be used in for loop.\n",
    "   4. Both can be concatenated and replicated.\n"
   ]
  },
  {
   "cell_type": "markdown",
   "id": "fce634c0",
   "metadata": {},
   "source": [
    "---------------------------------------------------------------------------------------------------------------------------"
   ]
  },
  {
   "cell_type": "markdown",
   "id": "1f5ec710",
   "metadata": {},
   "source": [
    "Q13. What's the difference between tuples and lists?"
   ]
  },
  {
   "cell_type": "markdown",
   "id": "5bb9f456",
   "metadata": {},
   "source": [
    "Ans: Lists are `Mutable`, `Indexable`, `Slicable`.\n",
    "\n",
    "   The values of the lists can be added, removed or changed.\n",
    "   List use the square bracket `[]` for representation.\n",
    "    \n",
    "   While Tuples are `immutable` but `Indexable` and `Slicable`.\n",
    "   The tuple can't be changed.\n",
    "   Tuples are represented using parenthesis`()`"
   ]
  },
  {
   "cell_type": "markdown",
   "id": "c2172545",
   "metadata": {},
   "source": [
    "---------------------------------------------------------------------------------------------------------------------------"
   ]
  },
  {
   "cell_type": "markdown",
   "id": "f7881891",
   "metadata": {},
   "source": [
    "Q14. How do you type a tuple value that only contains the integer 42?"
   ]
  },
  {
   "cell_type": "code",
   "execution_count": 78,
   "id": "e22607c0",
   "metadata": {},
   "outputs": [
    {
     "name": "stdout",
     "output_type": "stream",
     "text": [
      "42 <class 'int'> ----> single value inside the parenthesis is act as a integer\n",
      "(42,) <class 'tuple'> ----> Tuple is the collection of elements so we need to put trailing comma to convert a single element inside the parenthesis to tuple\n"
     ]
    }
   ],
   "source": [
    "t1 = (42)\n",
    "print(t1, type(t1), \"----> single value inside the parenthesis is act as a integer\")\n",
    "\n",
    "t2 = (42,)\n",
    "print(t2, type(t2), \"----> Tuple is the collection of elements so we need to put trailing comma to convert a single element inside the parenthesis to tuple\")"
   ]
  },
  {
   "cell_type": "markdown",
   "id": "b0657250",
   "metadata": {},
   "source": [
    "---------------------------------------------------------------------------------------------------------------------------"
   ]
  },
  {
   "cell_type": "markdown",
   "id": "e4793ab9",
   "metadata": {},
   "source": [
    "Q15. How do you get a list value's tuple form? How do you get a tuple value's list form?"
   ]
  },
  {
   "cell_type": "markdown",
   "id": "98cc3443",
   "metadata": {},
   "source": [
    "Ans: The tuple() and list() functions respectively are used to convert a list to tuple and vice versa."
   ]
  },
  {
   "cell_type": "code",
   "execution_count": 79,
   "id": "0f810ab9",
   "metadata": {},
   "outputs": [
    {
     "name": "stdout",
     "output_type": "stream",
     "text": [
      "[1, 2, 3, 4] ---> List\n",
      "(1, 2, 3, 4) --->Tuple\n",
      "\n",
      "\n",
      "(11, 12, 13, 14) --->Tuple\n",
      "[11, 12, 13, 14] ---> List\n"
     ]
    }
   ],
   "source": [
    "# Example:-\n",
    "l = [1,2,3,4]\n",
    "print(l, \"---> List\")\n",
    "print(tuple(l), \"--->Tuple\")\n",
    "print(\"\\n\")\n",
    "t = (11,12,13,14)\n",
    "print(t, \"--->Tuple\")\n",
    "print(list(t), \"---> List\")"
   ]
  },
  {
   "cell_type": "markdown",
   "id": "7dc2c0d7",
   "metadata": {},
   "source": [
    "---------------------------------------------------------------------------------------------------------------------------"
   ]
  },
  {
   "cell_type": "markdown",
   "id": "83dd4f03",
   "metadata": {},
   "source": [
    "Q16. Variables that \"contain\" list values are not necessarily lists themselves. Instead, what do they contain?"
   ]
  },
  {
   "cell_type": "markdown",
   "id": "cc0ab1d2",
   "metadata": {},
   "source": [
    "Ans: They contain references to list values."
   ]
  },
  {
   "cell_type": "markdown",
   "id": "ed86fc4c",
   "metadata": {},
   "source": [
    "---------------------------------------------------------------------------------------------------------------------------"
   ]
  },
  {
   "cell_type": "markdown",
   "id": "23fbbfce",
   "metadata": {},
   "source": [
    "Q17. How do you distinguish between copy.copy() and copy.deepcopy()?"
   ]
  },
  {
   "cell_type": "markdown",
   "id": "41c91126",
   "metadata": {},
   "source": [
    "Ans: The `copy.copy()` function will do a shallow copy oa a list while the `copt.deepcopy()` function will do a deep copy of a list.\n",
    "That is only `copy.deepcopy()` will duplicate any lists inside the list."
   ]
  },
  {
   "cell_type": "markdown",
   "id": "64f00337",
   "metadata": {},
   "source": [
    "---------------------------------------------------------------------------------------------------------------------------"
   ]
  }
 ],
 "metadata": {
  "kernelspec": {
   "display_name": "Python 3 (ipykernel)",
   "language": "python",
   "name": "python3"
  },
  "language_info": {
   "codemirror_mode": {
    "name": "ipython",
    "version": 3
   },
   "file_extension": ".py",
   "mimetype": "text/x-python",
   "name": "python",
   "nbconvert_exporter": "python",
   "pygments_lexer": "ipython3",
   "version": "3.9.7"
  }
 },
 "nbformat": 4,
 "nbformat_minor": 5
}
