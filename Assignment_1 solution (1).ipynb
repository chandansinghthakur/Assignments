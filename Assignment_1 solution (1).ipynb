{
 "cells": [
  {
   "cell_type": "markdown",
   "id": "2b30d4ee",
   "metadata": {},
   "source": [
    "Q1. In the below elements which of them are values or an expression? \n",
    "\n",
    "eg:- values can be integer or string and expressions will be mathematical operators.\n",
    "\n",
    "1.) *  ----------> Expression\n",
    "\n",
    "2.) 'hello'  ----> value\n",
    "\n",
    "3.) -87.8 -------> value\n",
    "\n",
    "4.) -   ---------> expression\n",
    "\n",
    "5.) /  ----------> expression\n",
    "\n",
    "6.) +  ----------> expression\n",
    "\n",
    "7.) 6  ----------> value"
   ]
  },
  {
   "cell_type": "markdown",
   "id": "14bab21b",
   "metadata": {},
   "source": [
    "---------------------------------------------------------------------------------------------------------------------------"
   ]
  },
  {
   "cell_type": "markdown",
   "id": "861dcf57",
   "metadata": {},
   "source": [
    "Q2. What is the difference between string and variable?\n",
    "\n",
    "String :1. A string is the sequence of characters interpreted inside the single or double quotes.\n",
    "\n",
    "        2. Strings are immutables.\n",
    "        \n",
    "Variable : 1. A variable basically is the name of the location in the primary memory of the computer.\n",
    "\n",
    "           2. It can store eveything from strings to numbers.\n",
    "           \n",
    "           3. A variable can store string but string can't.\n"
   ]
  },
  {
   "cell_type": "markdown",
   "id": "914c6654",
   "metadata": {},
   "source": [
    "---------------------------------------------------------------------------------------------------------------------------"
   ]
  },
  {
   "cell_type": "markdown",
   "id": "de3c2541",
   "metadata": {},
   "source": [
    "Q3. Describe three different data types."
   ]
  },
  {
   "cell_type": "markdown",
   "id": "9714b1fe",
   "metadata": {},
   "source": [
    "1. int data type - It can contains positive or negative whole numbers (wiyhout fraction or decimal). \n",
    "\n",
    " eg."
   ]
  },
  {
   "cell_type": "code",
   "execution_count": 5,
   "id": "bee1c1c0",
   "metadata": {},
   "outputs": [
    {
     "name": "stdout",
     "output_type": "stream",
     "text": [
      "<class 'int'>\n"
     ]
    }
   ],
   "source": [
    "print(type(4565))"
   ]
  },
  {
   "cell_type": "markdown",
   "id": "784057a4",
   "metadata": {},
   "source": [
    "2. str data type - String data type, a string is a collection of one or more characters put inside single or double quotes.\n",
    "\n",
    " eg."
   ]
  },
  {
   "cell_type": "code",
   "execution_count": 6,
   "id": "fc26f458",
   "metadata": {},
   "outputs": [
    {
     "name": "stdout",
     "output_type": "stream",
     "text": [
      "<class 'str'>\n"
     ]
    }
   ],
   "source": [
    "print(type(\"hello sir\"))"
   ]
  },
  {
   "cell_type": "markdown",
   "id": "6fc76816",
   "metadata": {},
   "source": [
    "3. complex data type - It is specified as (real part) + (imaginary part).\n",
    "\n",
    " eg."
   ]
  },
  {
   "cell_type": "code",
   "execution_count": 7,
   "id": "e92a9a85",
   "metadata": {},
   "outputs": [
    {
     "name": "stdout",
     "output_type": "stream",
     "text": [
      "<class 'complex'>\n"
     ]
    }
   ],
   "source": [
    "print(type(5+6j))"
   ]
  },
  {
   "cell_type": "markdown",
   "id": "1c864d7d",
   "metadata": {},
   "source": [
    "---------------------------------------------------------------------------------------------------------------------------"
   ]
  },
  {
   "cell_type": "markdown",
   "id": "593d1d76",
   "metadata": {},
   "source": [
    "Q4. What is an expression made up of ? What do all expressions do?\n",
    "\n",
    "An expression is a combination of mathematical operators and operands that is interpreted to produce some other value.\n",
    "\n",
    "An expressions are used to evaluate the values.\n",
    "eg.  a = 2 + 3"
   ]
  },
  {
   "cell_type": "markdown",
   "id": "b8532b9e",
   "metadata": {},
   "source": [
    "---------------------------------------------------------------------------------------------------------------------------"
   ]
  },
  {
   "cell_type": "markdown",
   "id": "18cfffb1",
   "metadata": {},
   "source": [
    "Q5. This assignment statements, like spam = 10. What is the difference between an expression and a statement?\n",
    "\n",
    "Expression is a combination of mathematical operators and operands and\n",
    "the statement is just like command that perform some action."
   ]
  },
  {
   "cell_type": "markdown",
   "id": "d65040fe",
   "metadata": {},
   "source": [
    "---------------------------------------------------------------------------------------------------------------------------"
   ]
  },
  {
   "cell_type": "code",
   "execution_count": 1,
   "id": "1745012d",
   "metadata": {},
   "outputs": [
    {
     "data": {
      "text/plain": [
       "23"
      ]
     },
     "execution_count": 1,
     "metadata": {},
     "output_type": "execute_result"
    }
   ],
   "source": [
    "# Q6. After running the following code, what does the variable bacon contain?\n",
    "\n",
    "bacon = 22\n",
    "bacon + 1\n"
   ]
  },
  {
   "cell_type": "markdown",
   "id": "7569b413",
   "metadata": {},
   "source": [
    "---------------------------------------------------------------------------------------------------------------------------"
   ]
  },
  {
   "cell_type": "markdown",
   "id": "4824f665",
   "metadata": {},
   "source": [
    "Q7. What should the values of the following two terms be?\n",
    "\n",
    "'spam' + 'spamspam'\n",
    "\n",
    "'spam' * 3"
   ]
  },
  {
   "cell_type": "code",
   "execution_count": 21,
   "id": "5a456d3d",
   "metadata": {},
   "outputs": [
    {
     "data": {
      "text/plain": [
       "'spamspamspam'"
      ]
     },
     "execution_count": 21,
     "metadata": {},
     "output_type": "execute_result"
    }
   ],
   "source": [
    "'spam' + 'spamspam'"
   ]
  },
  {
   "cell_type": "code",
   "execution_count": 22,
   "id": "9283dd99",
   "metadata": {},
   "outputs": [
    {
     "data": {
      "text/plain": [
       "'spamspamspam'"
      ]
     },
     "execution_count": 22,
     "metadata": {},
     "output_type": "execute_result"
    }
   ],
   "source": [
    "'spam' * 3"
   ]
  },
  {
   "cell_type": "markdown",
   "id": "4b5590d0",
   "metadata": {},
   "source": [
    "---------------------------------------------------------------------------------------------------------------------------"
   ]
  },
  {
   "cell_type": "markdown",
   "id": "2cf841da",
   "metadata": {},
   "source": [
    "Q8. Why is eggs a valid variable name while 100 is invalid?\n",
    "\n",
    "Ans:- egg is a valid variable name while 100 in invalid because we cannot start a variable name with an integer.\n",
    "\n",
    "      but we can begin the variable name with a string like alphabet, underscore. "
   ]
  },
  {
   "cell_type": "markdown",
   "id": "d015783f",
   "metadata": {},
   "source": [
    "---------------------------------------------------------------------------------------------------------------------------"
   ]
  },
  {
   "cell_type": "markdown",
   "id": "4b6413bf",
   "metadata": {},
   "source": [
    "Q9. What three functions can be used to get the integer, floating-point number, or string version of a value?\n",
    "\n",
    "For integer , we use ----> str()\n",
    "\n",
    "For floating point number, we use ----> float()\n",
    "\n",
    "For string version of a value, we use ----> str()"
   ]
  },
  {
   "cell_type": "markdown",
   "id": "8cde679d",
   "metadata": {},
   "source": [
    "---------------------------------------------------------------------------------------------------------------------------"
   ]
  },
  {
   "cell_type": "code",
   "execution_count": 23,
   "id": "9bbd8621",
   "metadata": {},
   "outputs": [
    {
     "ename": "TypeError",
     "evalue": "can only concatenate str (not \"int\") to str",
     "output_type": "error",
     "traceback": [
      "\u001b[1;31m---------------------------------------------------------------------------\u001b[0m",
      "\u001b[1;31mTypeError\u001b[0m                                 Traceback (most recent call last)",
      "\u001b[1;32m~\\AppData\\Local\\Temp/ipykernel_3252/329338201.py\u001b[0m in \u001b[0;36m<module>\u001b[1;34m\u001b[0m\n\u001b[0;32m      1\u001b[0m \u001b[1;31m# 10. Why does this expression cause an error? How can you fix it?\u001b[0m\u001b[1;33m\u001b[0m\u001b[1;33m\u001b[0m\u001b[0m\n\u001b[1;32m----> 2\u001b[1;33m \u001b[1;34m'I have eaten '\u001b[0m \u001b[1;33m+\u001b[0m \u001b[1;36m99\u001b[0m \u001b[1;33m+\u001b[0m \u001b[1;34m' burritos.'\u001b[0m\u001b[1;33m\u001b[0m\u001b[1;33m\u001b[0m\u001b[0m\n\u001b[0m",
      "\u001b[1;31mTypeError\u001b[0m: can only concatenate str (not \"int\") to str"
     ]
    }
   ],
   "source": [
    "Q10. Why does this expression cause an error? How can you fix it?\n",
    "'I have eaten ' + 99 + ' burritos'\n"
   ]
  },
  {
   "cell_type": "markdown",
   "id": "a560133c",
   "metadata": {},
   "source": [
    "Because 99 is an integer and it can't concatenated with strings.\n",
    "\n",
    "so we have to convert interger data type into a string data type by doing typecasting."
   ]
  },
  {
   "cell_type": "code",
   "execution_count": 24,
   "id": "f60526a5",
   "metadata": {},
   "outputs": [
    {
     "data": {
      "text/plain": [
       "'I have eaten 99 burritos'"
      ]
     },
     "execution_count": 24,
     "metadata": {},
     "output_type": "execute_result"
    }
   ],
   "source": [
    "'I have eaten ' + str(99) + ' burritos'"
   ]
  },
  {
   "cell_type": "markdown",
   "id": "60f5445a",
   "metadata": {},
   "source": [
    "---------------------------------------------------------------------------------------------------------------------------"
   ]
  }
 ],
 "metadata": {
  "kernelspec": {
   "display_name": "Python 3 (ipykernel)",
   "language": "python",
   "name": "python3"
  },
  "language_info": {
   "codemirror_mode": {
    "name": "ipython",
    "version": 3
   },
   "file_extension": ".py",
   "mimetype": "text/x-python",
   "name": "python",
   "nbconvert_exporter": "python",
   "pygments_lexer": "ipython3",
   "version": "3.9.7"
  }
 },
 "nbformat": 4,
 "nbformat_minor": 5
}
