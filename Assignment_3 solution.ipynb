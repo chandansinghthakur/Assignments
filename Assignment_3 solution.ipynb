{
 "cells": [
  {
   "cell_type": "markdown",
   "id": "ceefd634",
   "metadata": {},
   "source": [
    "Q1. Why are functions advantageous to have in your programs?"
   ]
  },
  {
   "cell_type": "markdown",
   "id": "a63b4f87",
   "metadata": {},
   "source": [
    "Ans : Functions reduce the need of duplicate code.\n",
    "    This akes the programs shorter, easier to read, and easier to update.\n",
    "    The main advantage of function is code reusability."
   ]
  },
  {
   "cell_type": "markdown",
   "id": "a01cd675",
   "metadata": {},
   "source": [
    "---------------------------------------------------------------------------------------------------------------------------"
   ]
  },
  {
   "cell_type": "markdown",
   "id": "7a06c270",
   "metadata": {},
   "source": [
    "Q2. When does the code in a function run: when it's specified or when it's called?"
   ]
  },
  {
   "cell_type": "markdown",
   "id": "f82dbc26",
   "metadata": {},
   "source": [
    "Ans: The code in a function excutes when the function is called , not when the the function is specified."
   ]
  },
  {
   "cell_type": "markdown",
   "id": "1bda1540",
   "metadata": {},
   "source": [
    "---------------------------------------------------------------------------------------------------------------------------"
   ]
  },
  {
   "cell_type": "markdown",
   "id": "3d82efe7",
   "metadata": {},
   "source": [
    "Q3. What statement creates a function?"
   ]
  },
  {
   "cell_type": "markdown",
   "id": "aa40ee34",
   "metadata": {},
   "source": [
    "Ans: The `def` statement defines a function"
   ]
  },
  {
   "cell_type": "markdown",
   "id": "225b49e0",
   "metadata": {},
   "source": [
    "`def function_name(parameter):\n",
    "    \"\"\"doc_string\"\"\"\n",
    "    function body\n",
    "    function body\n",
    "    return value`"
   ]
  },
  {
   "cell_type": "markdown",
   "id": "5b887b7b",
   "metadata": {},
   "source": [
    "---------------------------------------------------------------------------------------------------------------------------"
   ]
  },
  {
   "cell_type": "markdown",
   "id": "e6797d68",
   "metadata": {},
   "source": [
    "Q4.What is the difference between a function and a function call?"
   ]
  },
  {
   "cell_type": "markdown",
   "id": "4662a4ad",
   "metadata": {},
   "source": [
    "Ans: \n",
    "\n",
    "    A function is procedure to achieve a particular result.\n",
    "    while function call is using this function to achieve the task.\n",
    "    Using a function to do a particular task at any point in program is called as function call."
   ]
  },
  {
   "cell_type": "markdown",
   "id": "29165ef1",
   "metadata": {},
   "source": [
    "---------------------------------------------------------------------------------------------------------------------------"
   ]
  },
  {
   "cell_type": "markdown",
   "id": "9d111be7",
   "metadata": {},
   "source": [
    "Q5. How many global scopes are there in a Python program? How many local scopes?"
   ]
  },
  {
   "cell_type": "markdown",
   "id": "3c3dc940",
   "metadata": {},
   "source": [
    "Ans: There is one global scope and a local scope is created whenever a function is called."
   ]
  },
  {
   "cell_type": "markdown",
   "id": "94c46c0c",
   "metadata": {},
   "source": [
    "---------------------------------------------------------------------------------------------------------------------------"
   ]
  },
  {
   "cell_type": "markdown",
   "id": "2f4337c4",
   "metadata": {},
   "source": [
    "Q6. What happens to variables in a local scope when the function call returns?"
   ]
  },
  {
   "cell_type": "markdown",
   "id": "aa48f30b",
   "metadata": {},
   "source": [
    "Ans: When a function returns, the local scope is destroyed and all the variables in it are forgotten."
   ]
  },
  {
   "cell_type": "markdown",
   "id": "64829eec",
   "metadata": {},
   "source": [
    "---------------------------------------------------------------------------------------------------------------------------"
   ]
  },
  {
   "cell_type": "markdown",
   "id": "a98680f7",
   "metadata": {},
   "source": [
    "Q7. What is the concept of a return value? Is it possible to have a return value in an expression?"
   ]
  },
  {
   "cell_type": "markdown",
   "id": "795b5dc5",
   "metadata": {},
   "source": [
    "Ans: A return value is the value that a function call to evaluates.\n",
    "    Like any value can be used as part of an expression."
   ]
  },
  {
   "cell_type": "markdown",
   "id": "e6708a85",
   "metadata": {},
   "source": [
    "---------------------------------------------------------------------------------------------------------------------------"
   ]
  },
  {
   "cell_type": "markdown",
   "id": "0707879b",
   "metadata": {},
   "source": [
    "Q8. If a function does not have a return statement, what is the return value of a call to that function?"
   ]
  },
  {
   "cell_type": "markdown",
   "id": "55641e90",
   "metadata": {},
   "source": [
    "Ans: If there is no return statement for a function then it's return value `None`"
   ]
  },
  {
   "cell_type": "markdown",
   "id": "1a3a1850",
   "metadata": {},
   "source": [
    "---------------------------------------------------------------------------------------------------------------------------"
   ]
  },
  {
   "cell_type": "markdown",
   "id": "99b5dc43",
   "metadata": {},
   "source": [
    "Q9. How do you make a function variable refer to the global variable?"
   ]
  },
  {
   "cell_type": "markdown",
   "id": "16758dfd",
   "metadata": {},
   "source": [
    "Ans: A global statement will force a variable in a function to refers to the global variable. If you want to refer to a global variable in a function then you can use the `global` keyword to declare which variable are global."
   ]
  },
  {
   "cell_type": "markdown",
   "id": "8d567ded",
   "metadata": {},
   "source": [
    "---------------------------------------------------------------------------------------------------------------------------"
   ]
  },
  {
   "cell_type": "markdown",
   "id": "7f5871c1",
   "metadata": {},
   "source": [
    "Q10. What is the data type of None?"
   ]
  },
  {
   "cell_type": "markdown",
   "id": "5f1369b7",
   "metadata": {},
   "source": [
    "Ans: the data type of None is `NoneType`"
   ]
  },
  {
   "cell_type": "markdown",
   "id": "5ac5ae48",
   "metadata": {},
   "source": [
    "---------------------------------------------------------------------------------------------------------------------------"
   ]
  },
  {
   "cell_type": "markdown",
   "id": "c51dcc8c",
   "metadata": {},
   "source": [
    "Q11. What does the sentence import areallyourpetsnamederic do?"
   ]
  },
  {
   "cell_type": "markdown",
   "id": "1e301ad9",
   "metadata": {},
   "source": [
    "Ans: That import statement imports a module named areallyourpetsnamederic."
   ]
  },
  {
   "cell_type": "markdown",
   "id": "32dd0258",
   "metadata": {},
   "source": [
    "---------------------------------------------------------------------------------------------------------------------------"
   ]
  },
  {
   "cell_type": "markdown",
   "id": "bedf38e4",
   "metadata": {},
   "source": [
    "Q12. If you had a bacon() feature in a spam module, what would you call it after importing spam?"
   ]
  },
  {
   "cell_type": "markdown",
   "id": "e0fc5557",
   "metadata": {},
   "source": [
    "Ans: This function can be called as `spam.bacon()`"
   ]
  },
  {
   "cell_type": "markdown",
   "id": "e24c3f3c",
   "metadata": {},
   "source": [
    "---------------------------------------------------------------------------------------------------------------------------"
   ]
  },
  {
   "cell_type": "markdown",
   "id": "99c21144",
   "metadata": {},
   "source": [
    "Q13. What can you do to save a programme from crashing if it encounters an error?"
   ]
  },
  {
   "cell_type": "markdown",
   "id": "bdb4799e",
   "metadata": {},
   "source": [
    "Ans: Place the line of code that might cause an error in a `try` clause and use `except` block to handle the error"
   ]
  },
  {
   "cell_type": "markdown",
   "id": "e23d0f66",
   "metadata": {},
   "source": [
    "---------------------------------------------------------------------------------------------------------------------------"
   ]
  },
  {
   "cell_type": "markdown",
   "id": "8d6b8aba",
   "metadata": {},
   "source": [
    "Q14. What is the purpose of the try clause? What is the purpose of the except clause?"
   ]
  },
  {
   "cell_type": "markdown",
   "id": "bf191dc6",
   "metadata": {},
   "source": [
    "Ans: \n",
    "    The code that could cause an error goes in the `try` clause.\n",
    "    The code that excutes if an error happens goes in the `except` clause."
   ]
  },
  {
   "cell_type": "markdown",
   "id": "4a2117d3",
   "metadata": {},
   "source": [
    "---------------------------------------------------------------------------------------------------------------------------"
   ]
  }
 ],
 "metadata": {
  "kernelspec": {
   "display_name": "Python 3 (ipykernel)",
   "language": "python",
   "name": "python3"
  },
  "language_info": {
   "codemirror_mode": {
    "name": "ipython",
    "version": 3
   },
   "file_extension": ".py",
   "mimetype": "text/x-python",
   "name": "python",
   "nbconvert_exporter": "python",
   "pygments_lexer": "ipython3",
   "version": "3.9.7"
  }
 },
 "nbformat": 4,
 "nbformat_minor": 5
}
