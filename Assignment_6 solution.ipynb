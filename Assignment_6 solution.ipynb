{
 "cells": [
  {
   "cell_type": "markdown",
   "id": "206d2094",
   "metadata": {},
   "source": [
    "Q1. What are escape characters, and how do you use them?"
   ]
  },
  {
   "cell_type": "markdown",
   "id": "cd6f93d5",
   "metadata": {},
   "source": [
    "Ans: Escape characters represent characters in string values that would difficult or impossible to type into code.\n",
    "    we can use the backslash `character` to escape a single character or symbol.\n",
    "    example-`\\t`, `\\n`"
   ]
  },
  {
   "cell_type": "markdown",
   "id": "1c2e2bc1",
   "metadata": {},
   "source": [
    "---------------------------------------------------------------------------------------------------------------------------"
   ]
  },
  {
   "cell_type": "markdown",
   "id": "8fab9e17",
   "metadata": {},
   "source": [
    "Q2. What do the escape characters n and t stand for?"
   ]
  },
  {
   "cell_type": "markdown",
   "id": "da4d13a3",
   "metadata": {},
   "source": [
    "Ans: `\\n` is for newline and `\\t` is for tab."
   ]
  },
  {
   "cell_type": "markdown",
   "id": "f78370d6",
   "metadata": {},
   "source": [
    "---------------------------------------------------------------------------------------------------------------------------"
   ]
  },
  {
   "cell_type": "markdown",
   "id": "dea40dd8",
   "metadata": {},
   "source": [
    "Q3. What is the way to include backslash characters in a string?"
   ]
  },
  {
   "cell_type": "markdown",
   "id": "e74734e1",
   "metadata": {},
   "source": [
    "Ans: The double baclslash `\\\\` escape character will represent the backslash character in a string."
   ]
  },
  {
   "cell_type": "markdown",
   "id": "fb985a04",
   "metadata": {},
   "source": [
    "---------------------------------------------------------------------------------------------------------------------------"
   ]
  },
  {
   "cell_type": "markdown",
   "id": "dcf25617",
   "metadata": {},
   "source": [
    "Q4. The string \"Howl's Moving Castle\" is a correct value. Why isn't the single quote character in the word Howl's not escaped a problem?"
   ]
  },
  {
   "cell_type": "markdown",
   "id": "09e490f4",
   "metadata": {},
   "source": [
    "Ans: The string `\"Howl's Moving Castle\"` escaped the problem because it is wrapped inside double quotes.\n",
    "    if it wrapped inside single quotes then we have to use escape characher `\\'` to show single quote in the final output."
   ]
  },
  {
   "cell_type": "code",
   "execution_count": 6,
   "id": "f6bc21c8",
   "metadata": {},
   "outputs": [
    {
     "name": "stdout",
     "output_type": "stream",
     "text": [
      "Howl's Moving Castle \n",
      " Howl's Moving Castle\n"
     ]
    }
   ],
   "source": [
    "a = \"Howl's Moving Castle\"\n",
    "b = 'Howl\\'s Moving Castle'\n",
    "print(a,\"\\n\",b)"
   ]
  },
  {
   "cell_type": "markdown",
   "id": "46eace3b",
   "metadata": {},
   "source": [
    "---------------------------------------------------------------------------------------------------------------------------"
   ]
  },
  {
   "cell_type": "markdown",
   "id": "f6461c3a",
   "metadata": {},
   "source": [
    "Q5. How do you write a string of newlines if you don't want to use the n character?"
   ]
  },
  {
   "cell_type": "markdown",
   "id": "8a87cb50",
   "metadata": {},
   "source": [
    "Ans: Multiline string allow you to use newlines in string without using `\\n` escape character."
   ]
  },
  {
   "cell_type": "code",
   "execution_count": 8,
   "id": "073203aa",
   "metadata": {},
   "outputs": [
    {
     "name": "stdout",
     "output_type": "stream",
     "text": [
      "my name is abcd\n",
      "i study in class xyz\n",
      "i love coding\n"
     ]
    }
   ],
   "source": [
    "a= '''my name is abcd\n",
    "i study in class xyz\n",
    "i love coding'''\n",
    "print(a)"
   ]
  },
  {
   "cell_type": "markdown",
   "id": "ae1086dd",
   "metadata": {},
   "source": [
    "---------------------------------------------------------------------------------------------------------------------------"
   ]
  },
  {
   "cell_type": "markdown",
   "id": "0beefea1",
   "metadata": {},
   "source": [
    "Q6. What are the values of the given expressions?\n",
    "\n",
    "   'Hello, world!'[1]\n",
    "    \n",
    "   'Hello, world!'[0:5]\n",
    "    \n",
    "   'Hello, world!'[:5]\n",
    "    \n",
    "   'Hello, world!'[3:]\n"
   ]
  },
  {
   "cell_type": "code",
   "execution_count": 13,
   "id": "30c6565d",
   "metadata": {},
   "outputs": [
    {
     "name": "stdout",
     "output_type": "stream",
     "text": [
      "e\n",
      "Hello\n",
      "Hello\n",
      "lo, world!\n"
     ]
    }
   ],
   "source": [
    "print('Hello, world!'[1])\n",
    "print('Hello, world!'[0:5])\n",
    "print('Hello, world!'[:5])\n",
    "print('Hello, world!'[3:])"
   ]
  },
  {
   "cell_type": "markdown",
   "id": "5980f813",
   "metadata": {},
   "source": [
    "---------------------------------------------------------------------------------------------------------------------------"
   ]
  },
  {
   "cell_type": "markdown",
   "id": "e7e3eb77",
   "metadata": {},
   "source": [
    "Q7. What are the values of the following expressions?\n",
    "\n",
    "'Hello'.upper()\n",
    "\n",
    "'Hello'.upper().isupper()\n",
    "\n",
    "'Hello'.upper().lower()\n"
   ]
  },
  {
   "cell_type": "code",
   "execution_count": 15,
   "id": "e8b36ea8",
   "metadata": {},
   "outputs": [
    {
     "name": "stdout",
     "output_type": "stream",
     "text": [
      "HELLO\n",
      "True\n",
      "hello\n"
     ]
    }
   ],
   "source": [
    "print('Hello'.upper())\n",
    "print('Hello'.upper().isupper())\n",
    "print('Hello'.upper().lower())\n"
   ]
  },
  {
   "cell_type": "markdown",
   "id": "4043dee1",
   "metadata": {},
   "source": [
    "---------------------------------------------------------------------------------------------------------------------------"
   ]
  },
  {
   "cell_type": "markdown",
   "id": "9306af4e",
   "metadata": {},
   "source": [
    "Q8. What are the values of the following expressions?\n",
    "\n",
    "'Remember, remember, the fifth of July.'.split()\n",
    "\n",
    "'-'.join('There can only one.'.split())\n"
   ]
  },
  {
   "cell_type": "code",
   "execution_count": 18,
   "id": "4a5d1c87",
   "metadata": {},
   "outputs": [
    {
     "name": "stdout",
     "output_type": "stream",
     "text": [
      "['Remember,', 'remember,', 'the', 'fifth', 'of', 'July.']\n",
      "There-can-only-one.\n"
     ]
    }
   ],
   "source": [
    "\n",
    "a= 'Remember, remember, the fifth of July.'.split()\n",
    "b = '-'.join('There can only one.'.split())\n",
    "print(a)\n",
    "print(b)"
   ]
  },
  {
   "cell_type": "markdown",
   "id": "1b90ff15",
   "metadata": {},
   "source": [
    "---------------------------------------------------------------------------------------------------------------------------"
   ]
  },
  {
   "cell_type": "markdown",
   "id": "b8450446",
   "metadata": {},
   "source": [
    "Q9. What are the methods for right-justifying, left-justifying, and centering a string?"
   ]
  },
  {
   "cell_type": "markdown",
   "id": "53c28839",
   "metadata": {},
   "source": [
    "Ans: `rjust()`, `ljust()`, `center()` are the methods for right-justifying, left- justifying and centering a string respectively."
   ]
  },
  {
   "cell_type": "markdown",
   "id": "86b67ec8",
   "metadata": {},
   "source": [
    "---------------------------------------------------------------------------------------------------------------------------"
   ]
  },
  {
   "cell_type": "markdown",
   "id": "f0c7eac0",
   "metadata": {},
   "source": [
    "Q10. What is the best way to remove whitespace characters from the start or end?"
   ]
  },
  {
   "cell_type": "markdown",
   "id": "b57746e8",
   "metadata": {},
   "source": [
    "Ans: `lstrip()` and `rstrip()` methods remove whitespace characters from the start and end of a string."
   ]
  },
  {
   "cell_type": "code",
   "execution_count": 24,
   "id": "6c2835a4",
   "metadata": {},
   "outputs": [
    {
     "name": "stdout",
     "output_type": "stream",
     "text": [
      "        remove the whitespace characters from the left and right\n",
      "remove the whitespace characters from the left and right             \n"
     ]
    }
   ],
   "source": [
    "a = \"        remove the whitespace characters from the left and right             \"\n",
    "b=a.rstrip()\n",
    "c=a.lstrip()\n",
    "print(b)\n",
    "print(c)"
   ]
  },
  {
   "cell_type": "markdown",
   "id": "dcf6d926",
   "metadata": {},
   "source": [
    "---------------------------------------------------------------------------------------------------------------------------"
   ]
  }
 ],
 "metadata": {
  "kernelspec": {
   "display_name": "Python 3 (ipykernel)",
   "language": "python",
   "name": "python3"
  },
  "language_info": {
   "codemirror_mode": {
    "name": "ipython",
    "version": 3
   },
   "file_extension": ".py",
   "mimetype": "text/x-python",
   "name": "python",
   "nbconvert_exporter": "python",
   "pygments_lexer": "ipython3",
   "version": "3.9.7"
  }
 },
 "nbformat": 4,
 "nbformat_minor": 5
}
